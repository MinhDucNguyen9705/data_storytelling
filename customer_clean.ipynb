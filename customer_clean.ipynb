{
 "cells": [
  {
   "cell_type": "code",
   "execution_count": 21,
   "metadata": {},
   "outputs": [],
   "source": [
    "import pandas as pd \n",
    "import numpy as np "
   ]
  },
  {
   "cell_type": "code",
   "execution_count": 22,
   "metadata": {},
   "outputs": [],
   "source": [
    "customer = pd.read_csv('customer.csv')"
   ]
  },
  {
   "cell_type": "code",
   "execution_count": 23,
   "metadata": {},
   "outputs": [
    {
     "data": {
      "text/html": [
       "<div>\n",
       "<style scoped>\n",
       "    .dataframe tbody tr th:only-of-type {\n",
       "        vertical-align: middle;\n",
       "    }\n",
       "\n",
       "    .dataframe tbody tr th {\n",
       "        vertical-align: top;\n",
       "    }\n",
       "\n",
       "    .dataframe thead th {\n",
       "        text-align: right;\n",
       "    }\n",
       "</style>\n",
       "<table border=\"1\" class=\"dataframe\">\n",
       "  <thead>\n",
       "    <tr style=\"text-align: right;\">\n",
       "      <th></th>\n",
       "      <th>customerid</th>\n",
       "      <th>DOB</th>\n",
       "      <th>gender</th>\n",
       "      <th>address</th>\n",
       "      <th>Website</th>\n",
       "      <th>job</th>\n",
       "      <th>industry</th>\n",
       "    </tr>\n",
       "  </thead>\n",
       "  <tbody>\n",
       "    <tr>\n",
       "      <th>0</th>\n",
       "      <td>0000000014</td>\n",
       "      <td>36268</td>\n",
       "      <td>Nữ</td>\n",
       "      <td>hoa khe quan thanh khe</td>\n",
       "      <td>KH0104|0345</td>\n",
       "      <td>student</td>\n",
       "      <td>computer</td>\n",
       "    </tr>\n",
       "    <tr>\n",
       "      <th>1</th>\n",
       "      <td>0000000034</td>\n",
       "      <td>35901</td>\n",
       "      <td>Nam</td>\n",
       "      <td>man thai</td>\n",
       "      <td>KH0104|0333</td>\n",
       "      <td>student</td>\n",
       "      <td>health service</td>\n",
       "    </tr>\n",
       "    <tr>\n",
       "      <th>2</th>\n",
       "      <td>0000000051</td>\n",
       "      <td>34319</td>\n",
       "      <td>Nam</td>\n",
       "      <td>que son quang nam</td>\n",
       "      <td>KH0104|0255</td>\n",
       "      <td>blue collar</td>\n",
       "      <td>economics</td>\n",
       "    </tr>\n",
       "    <tr>\n",
       "      <th>3</th>\n",
       "      <td>0000000081</td>\n",
       "      <td>36472</td>\n",
       "      <td>Nam</td>\n",
       "      <td>truong chinh</td>\n",
       "      <td>KH0104|0293</td>\n",
       "      <td>student</td>\n",
       "      <td>economics</td>\n",
       "    </tr>\n",
       "    <tr>\n",
       "      <th>4</th>\n",
       "      <td>0000000098</td>\n",
       "      <td>34608</td>\n",
       "      <td>Nam</td>\n",
       "      <td>cẩm lệ</td>\n",
       "      <td>KH0104|40580</td>\n",
       "      <td>blue collar</td>\n",
       "      <td>health service</td>\n",
       "    </tr>\n",
       "  </tbody>\n",
       "</table>\n",
       "</div>"
      ],
      "text/plain": [
       "   customerid    DOB gender                 address       Website  \\\n",
       "0  0000000014  36268     Nữ  hoa khe quan thanh khe   KH0104|0345   \n",
       "1  0000000034  35901    Nam                man thai   KH0104|0333   \n",
       "2  0000000051  34319    Nam       que son quang nam   KH0104|0255   \n",
       "3  0000000081  36472    Nam            truong chinh   KH0104|0293   \n",
       "4  0000000098  34608    Nam                  cẩm lệ  KH0104|40580   \n",
       "\n",
       "           job        industry  \n",
       "0      student        computer  \n",
       "1      student  health service  \n",
       "2  blue collar       economics  \n",
       "3      student       economics  \n",
       "4  blue collar  health service  "
      ]
     },
     "execution_count": 23,
     "metadata": {},
     "output_type": "execute_result"
    }
   ],
   "source": [
    "customer.head()"
   ]
  },
  {
   "cell_type": "code",
   "execution_count": 24,
   "metadata": {},
   "outputs": [
    {
     "name": "stdout",
     "output_type": "stream",
     "text": [
      "<class 'pandas.core.frame.DataFrame'>\n",
      "RangeIndex: 4479 entries, 0 to 4478\n",
      "Data columns (total 7 columns):\n",
      " #   Column      Non-Null Count  Dtype \n",
      "---  ------      --------------  ----- \n",
      " 0   customerid  4479 non-null   object\n",
      " 1   DOB         4479 non-null   int64 \n",
      " 2   gender      4479 non-null   object\n",
      " 3   address     4478 non-null   object\n",
      " 4   Website     3943 non-null   object\n",
      " 5   job         4479 non-null   object\n",
      " 6   industry    3357 non-null   object\n",
      "dtypes: int64(1), object(6)\n",
      "memory usage: 245.1+ KB\n"
     ]
    }
   ],
   "source": [
    "customer.info()"
   ]
  },
  {
   "cell_type": "code",
   "execution_count": 25,
   "metadata": {},
   "outputs": [],
   "source": [
    "from datetime import datetime, timedelta"
   ]
  },
  {
   "cell_type": "code",
   "execution_count": 26,
   "metadata": {},
   "outputs": [],
   "source": [
    "current_date = datetime.now()\n",
    "base_date = datetime(1899, 12, 30)\n",
    "max_days_difference = (current_date - base_date).days"
   ]
  },
  {
   "cell_type": "code",
   "execution_count": 27,
   "metadata": {},
   "outputs": [],
   "source": [
    "rows_to_drop = customer[customer['DOB']>max_days_difference].index"
   ]
  },
  {
   "cell_type": "code",
   "execution_count": 28,
   "metadata": {},
   "outputs": [],
   "source": [
    "customer.drop(rows_to_drop, axis=0, inplace=True)"
   ]
  },
  {
   "cell_type": "code",
   "execution_count": 29,
   "metadata": {},
   "outputs": [],
   "source": [
    "def date_convert(excel_date_value):\n",
    "    base_date = datetime(1899, 12, 30)\n",
    "    resulting_date = base_date + timedelta(days=excel_date_value)\n",
    "    formatted_date = resulting_date.strftime('%d/%m/%Y')\n",
    "    return formatted_date\n",
    "\n",
    "customer['DOB'] = customer['DOB'].apply(date_convert)"
   ]
  },
  {
   "cell_type": "code",
   "execution_count": 30,
   "metadata": {},
   "outputs": [],
   "source": [
    "customer['DOB'] = pd.to_datetime(customer['DOB'], format='%d/%m/%Y')"
   ]
  },
  {
   "cell_type": "code",
   "execution_count": 31,
   "metadata": {},
   "outputs": [],
   "source": [
    "def age_calculate(birthdate):\n",
    "    current_date = datetime.now()\n",
    "    age = current_date.year - birthdate.year - ((current_date.month, current_date.day) < (birthdate.month, birthdate.day))\n",
    "    return age \n",
    "\n",
    "customer['age'] = customer['DOB'].apply(age_calculate)"
   ]
  },
  {
   "cell_type": "code",
   "execution_count": 32,
   "metadata": {},
   "outputs": [
    {
     "data": {
      "text/plain": [
       "0       24\n",
       "1       25\n",
       "2       30\n",
       "3       24\n",
       "4       29\n",
       "        ..\n",
       "4474    28\n",
       "4475    23\n",
       "4476    35\n",
       "4477    27\n",
       "4478    21\n",
       "Name: age, Length: 4475, dtype: int64"
      ]
     },
     "execution_count": 32,
     "metadata": {},
     "output_type": "execute_result"
    }
   ],
   "source": [
    "customer['age']"
   ]
  },
  {
   "cell_type": "code",
   "execution_count": 33,
   "metadata": {},
   "outputs": [
    {
     "data": {
      "text/html": [
       "<div>\n",
       "<style scoped>\n",
       "    .dataframe tbody tr th:only-of-type {\n",
       "        vertical-align: middle;\n",
       "    }\n",
       "\n",
       "    .dataframe tbody tr th {\n",
       "        vertical-align: top;\n",
       "    }\n",
       "\n",
       "    .dataframe thead th {\n",
       "        text-align: right;\n",
       "    }\n",
       "</style>\n",
       "<table border=\"1\" class=\"dataframe\">\n",
       "  <thead>\n",
       "    <tr style=\"text-align: right;\">\n",
       "      <th></th>\n",
       "      <th>customerid</th>\n",
       "      <th>DOB</th>\n",
       "      <th>gender</th>\n",
       "      <th>address</th>\n",
       "      <th>Website</th>\n",
       "      <th>job</th>\n",
       "      <th>industry</th>\n",
       "      <th>age</th>\n",
       "    </tr>\n",
       "  </thead>\n",
       "  <tbody>\n",
       "    <tr>\n",
       "      <th>0</th>\n",
       "      <td>0000000014</td>\n",
       "      <td>1999-04-18</td>\n",
       "      <td>Nữ</td>\n",
       "      <td>hoa khe quan thanh khe</td>\n",
       "      <td>KH0104|0345</td>\n",
       "      <td>student</td>\n",
       "      <td>computer</td>\n",
       "      <td>24</td>\n",
       "    </tr>\n",
       "    <tr>\n",
       "      <th>1</th>\n",
       "      <td>0000000034</td>\n",
       "      <td>1998-04-16</td>\n",
       "      <td>Nam</td>\n",
       "      <td>man thai</td>\n",
       "      <td>KH0104|0333</td>\n",
       "      <td>student</td>\n",
       "      <td>health service</td>\n",
       "      <td>25</td>\n",
       "    </tr>\n",
       "    <tr>\n",
       "      <th>2</th>\n",
       "      <td>0000000051</td>\n",
       "      <td>1993-12-16</td>\n",
       "      <td>Nam</td>\n",
       "      <td>que son quang nam</td>\n",
       "      <td>KH0104|0255</td>\n",
       "      <td>blue collar</td>\n",
       "      <td>economics</td>\n",
       "      <td>30</td>\n",
       "    </tr>\n",
       "    <tr>\n",
       "      <th>3</th>\n",
       "      <td>0000000081</td>\n",
       "      <td>1999-11-08</td>\n",
       "      <td>Nam</td>\n",
       "      <td>truong chinh</td>\n",
       "      <td>KH0104|0293</td>\n",
       "      <td>student</td>\n",
       "      <td>economics</td>\n",
       "      <td>24</td>\n",
       "    </tr>\n",
       "    <tr>\n",
       "      <th>4</th>\n",
       "      <td>0000000098</td>\n",
       "      <td>1994-10-01</td>\n",
       "      <td>Nam</td>\n",
       "      <td>cẩm lệ</td>\n",
       "      <td>KH0104|40580</td>\n",
       "      <td>blue collar</td>\n",
       "      <td>health service</td>\n",
       "      <td>29</td>\n",
       "    </tr>\n",
       "  </tbody>\n",
       "</table>\n",
       "</div>"
      ],
      "text/plain": [
       "   customerid        DOB gender                 address       Website  \\\n",
       "0  0000000014 1999-04-18     Nữ  hoa khe quan thanh khe   KH0104|0345   \n",
       "1  0000000034 1998-04-16    Nam                man thai   KH0104|0333   \n",
       "2  0000000051 1993-12-16    Nam       que son quang nam   KH0104|0255   \n",
       "3  0000000081 1999-11-08    Nam            truong chinh   KH0104|0293   \n",
       "4  0000000098 1994-10-01    Nam                  cẩm lệ  KH0104|40580   \n",
       "\n",
       "           job        industry  age  \n",
       "0      student        computer   24  \n",
       "1      student  health service   25  \n",
       "2  blue collar       economics   30  \n",
       "3      student       economics   24  \n",
       "4  blue collar  health service   29  "
      ]
     },
     "execution_count": 33,
     "metadata": {},
     "output_type": "execute_result"
    }
   ],
   "source": [
    "customer.head()"
   ]
  },
  {
   "cell_type": "code",
   "execution_count": 34,
   "metadata": {},
   "outputs": [
    {
     "data": {
      "text/plain": [
       "customerid    4475\n",
       "DOB           3049\n",
       "gender           2\n",
       "address       1260\n",
       "Website       3940\n",
       "job              5\n",
       "industry         9\n",
       "age             50\n",
       "dtype: int64"
      ]
     },
     "execution_count": 34,
     "metadata": {},
     "output_type": "execute_result"
    }
   ],
   "source": [
    "customer.nunique()"
   ]
  },
  {
   "cell_type": "code",
   "execution_count": 37,
   "metadata": {},
   "outputs": [],
   "source": [
    "customer['gender'] = customer['gender'].astype('category')"
   ]
  },
  {
   "cell_type": "code",
   "execution_count": 40,
   "metadata": {},
   "outputs": [
    {
     "data": {
      "text/plain": [
       "address\n",
       "hải châu                     312\n",
       "ngũ hành sơn                 294\n",
       "hòa khánh                    270\n",
       "liên chiểu                   263\n",
       "sơn trà                      252\n",
       "                            ... \n",
       "vũ quỳnh                       1\n",
       "Pleiku, Gia Lai                1\n",
       "Phan Boi                       1\n",
       " THÁI THỊ BÔI ĐÀ NẴNG          1\n",
       "Thanh Khê Tây - Thanh Khê      1\n",
       "Name: count, Length: 1260, dtype: int64"
      ]
     },
     "execution_count": 40,
     "metadata": {},
     "output_type": "execute_result"
    }
   ],
   "source": [
    "customer['address'].value_counts()"
   ]
  },
  {
   "cell_type": "code",
   "execution_count": 46,
   "metadata": {},
   "outputs": [
    {
     "data": {
      "text/plain": [
       "customerid       0\n",
       "DOB              0\n",
       "gender           0\n",
       "address          1\n",
       "Website        535\n",
       "job              0\n",
       "industry      1118\n",
       "age              0\n",
       "dtype: int64"
      ]
     },
     "execution_count": 46,
     "metadata": {},
     "output_type": "execute_result"
    }
   ],
   "source": [
    "customer.isnull().sum()"
   ]
  },
  {
   "cell_type": "code",
   "execution_count": 49,
   "metadata": {},
   "outputs": [],
   "source": [
    "null_address_rows = customer[customer['address'].isnull()].index"
   ]
  },
  {
   "cell_type": "code",
   "execution_count": 50,
   "metadata": {},
   "outputs": [],
   "source": [
    "customer.drop(null_address_rows, axis=0, inplace=True)"
   ]
  },
  {
   "cell_type": "code",
   "execution_count": 58,
   "metadata": {},
   "outputs": [],
   "source": [
    "from unidecode import unidecode\n",
    "\n",
    "customer['address'] = customer['address'].apply(lambda x: unidecode(x.lower().strip()))"
   ]
  },
  {
   "cell_type": "code",
   "execution_count": 59,
   "metadata": {},
   "outputs": [
    {
     "data": {
      "text/plain": [
       "array(['man thai', 'truong chinh', 'cam le', 'tam thuan', 'cam le,dn',\n",
       "       'le duan', 'thuan phuoc', 'lien chieu', 'hoa vang', 'ton dan',\n",
       "       'thanh son', 'hoa minh', 'son tra', 'thanh khe', 'hai chau',\n",
       "       'hung vuong', 'hoa khanh', 'dong da', 'me nhu', 'nguyen chanh',\n",
       "       'van cao', 'phan thanh', 'lang ha', 'to hieu', 'hia phong',\n",
       "       'yen khe', 'khu dong', 'dong ki', 'quang tri', 'le thiet',\n",
       "       'hoaf vang', 'khue trung', 'hoang dieu', 'le do', 'quang nam',\n",
       "       'bui vien', 'que son', 'nguyen trai', 'dao tan', 'ly trieu',\n",
       "       'tran phu', 'ham nghi', 'ngoc han', 'bac dau', 'tan thai',\n",
       "       'hai phong', 'thanh thuy', 'man quang', 'huynh ly', 'hai son',\n",
       "       'do quang', 'thanh long', 'ky dong', 'co giang', 'duy tan',\n",
       "       'ngo quyen', 'thanh duyen', 'thuc te', 'quang trung', 'hoi an',\n",
       "       'quang ngai', 'hoa chau', 'yen bay', 'an don', 'thanh hai',\n",
       "       'nguyen nghiem', 'hoa lien', 'hoa phat', 'dak lak', 'binh dinh',\n",
       "       'van don', 'hoa son', 'thoi huu', 'truong son', 'nui thanh',\n",
       "       'cao thang', 'tam ky', 'nguyen dang', 'mai an', 'nguyen hoang',\n",
       "       'pasraur, dn', 'the lu', 'thai phien', 'nguyen du', 'le loi',\n",
       "       'ha son', 'vu quynh', 'phan boi', 'hao vang', 'quang rnam',\n",
       "       'quang binh', 'chinh gian', 'tam ki', 'le co', '- blo', 'caam le',\n",
       "       'phu yen', 'ba dinh', 'hoaf khanhf', 'dai loc', 'mai am',\n",
       "       'khuc hao', 'q.lien chieu', 'thanh  khe', 'ha tinh', 'thac gian',\n",
       "       'quang  nam', 'le lai', 'hai duong', 'quang nma', 'duy xuyen',\n",
       "       'hoa an', 'hoa tien', 'cam leh', 'truong dinh', 'nam cao',\n",
       "       'vu huu', 'thnah khe', 'hoa vnag', 'quangr nam', 'quang nam,',\n",
       "       'nguyen trac', 'hair chaau', 'ha noi', 'khanh hoa', 'son trag',\n",
       "       'son trta', 'thang binh', 'lieenc hieu', 'lang son', 'cach mang',\n",
       "       'thanh khee', 'kon tum', 'do nhuan', 'nguyen hien', 'au co',\n",
       "       'nghe an', 'kien giang', 'gia lai', 'nguyen bieu', 'thi sach',\n",
       "       'tieu la', 'hoa phong', 'an khe', 'khuc ha', 'bac son',\n",
       "       'bac giang', 'hoa thanh', 'quangc ngai', 'han thuyen',\n",
       "       'thanh vinh', 'ly trien', 'haf tinh', 'truong trinh', 'man thienh',\n",
       "       'cam le-dn'], dtype=object)"
      ]
     },
     "execution_count": 59,
     "metadata": {},
     "output_type": "execute_result"
    }
   ],
   "source": [
    "customer[customer['address'].apply(lambda x: len(x.split())==2)]['address'].unique()"
   ]
  },
  {
   "cell_type": "code",
   "execution_count": null,
   "metadata": {},
   "outputs": [],
   "source": []
  }
 ],
 "metadata": {
  "kernelspec": {
   "display_name": "Python 3",
   "language": "python",
   "name": "python3"
  },
  "language_info": {
   "codemirror_mode": {
    "name": "ipython",
    "version": 3
   },
   "file_extension": ".py",
   "mimetype": "text/x-python",
   "name": "python",
   "nbconvert_exporter": "python",
   "pygments_lexer": "ipython3",
   "version": "3.11.4"
  }
 },
 "nbformat": 4,
 "nbformat_minor": 2
}
