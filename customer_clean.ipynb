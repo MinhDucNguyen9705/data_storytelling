{
 "cells": [
  {
   "cell_type": "code",
   "execution_count": 140,
   "metadata": {},
   "outputs": [],
   "source": [
    "import pandas as pd \n",
    "import numpy as np "
   ]
  },
  {
   "cell_type": "code",
   "execution_count": 141,
   "metadata": {},
   "outputs": [],
   "source": [
    "customer = pd.read_csv('customer.csv')"
   ]
  },
  {
   "cell_type": "code",
   "execution_count": 142,
   "metadata": {},
   "outputs": [
    {
     "data": {
      "text/html": [
       "<div>\n",
       "<style scoped>\n",
       "    .dataframe tbody tr th:only-of-type {\n",
       "        vertical-align: middle;\n",
       "    }\n",
       "\n",
       "    .dataframe tbody tr th {\n",
       "        vertical-align: top;\n",
       "    }\n",
       "\n",
       "    .dataframe thead th {\n",
       "        text-align: right;\n",
       "    }\n",
       "</style>\n",
       "<table border=\"1\" class=\"dataframe\">\n",
       "  <thead>\n",
       "    <tr style=\"text-align: right;\">\n",
       "      <th></th>\n",
       "      <th>customerid</th>\n",
       "      <th>DOB</th>\n",
       "      <th>gender</th>\n",
       "      <th>address</th>\n",
       "      <th>Website</th>\n",
       "      <th>job</th>\n",
       "      <th>industry</th>\n",
       "    </tr>\n",
       "  </thead>\n",
       "  <tbody>\n",
       "    <tr>\n",
       "      <th>0</th>\n",
       "      <td>0000000014</td>\n",
       "      <td>36268</td>\n",
       "      <td>Nữ</td>\n",
       "      <td>hoa khe quan thanh khe</td>\n",
       "      <td>KH0104|0345</td>\n",
       "      <td>student</td>\n",
       "      <td>computer</td>\n",
       "    </tr>\n",
       "    <tr>\n",
       "      <th>1</th>\n",
       "      <td>0000000034</td>\n",
       "      <td>35901</td>\n",
       "      <td>Nam</td>\n",
       "      <td>man thai</td>\n",
       "      <td>KH0104|0333</td>\n",
       "      <td>student</td>\n",
       "      <td>health service</td>\n",
       "    </tr>\n",
       "    <tr>\n",
       "      <th>2</th>\n",
       "      <td>0000000051</td>\n",
       "      <td>34319</td>\n",
       "      <td>Nam</td>\n",
       "      <td>que son quang nam</td>\n",
       "      <td>KH0104|0255</td>\n",
       "      <td>blue collar</td>\n",
       "      <td>economics</td>\n",
       "    </tr>\n",
       "    <tr>\n",
       "      <th>3</th>\n",
       "      <td>0000000081</td>\n",
       "      <td>36472</td>\n",
       "      <td>Nam</td>\n",
       "      <td>truong chinh</td>\n",
       "      <td>KH0104|0293</td>\n",
       "      <td>student</td>\n",
       "      <td>economics</td>\n",
       "    </tr>\n",
       "    <tr>\n",
       "      <th>4</th>\n",
       "      <td>0000000098</td>\n",
       "      <td>34608</td>\n",
       "      <td>Nam</td>\n",
       "      <td>cẩm lệ</td>\n",
       "      <td>KH0104|40580</td>\n",
       "      <td>blue collar</td>\n",
       "      <td>health service</td>\n",
       "    </tr>\n",
       "  </tbody>\n",
       "</table>\n",
       "</div>"
      ],
      "text/plain": [
       "   customerid    DOB gender                 address       Website  \\\n",
       "0  0000000014  36268     Nữ  hoa khe quan thanh khe   KH0104|0345   \n",
       "1  0000000034  35901    Nam                man thai   KH0104|0333   \n",
       "2  0000000051  34319    Nam       que son quang nam   KH0104|0255   \n",
       "3  0000000081  36472    Nam            truong chinh   KH0104|0293   \n",
       "4  0000000098  34608    Nam                  cẩm lệ  KH0104|40580   \n",
       "\n",
       "           job        industry  \n",
       "0      student        computer  \n",
       "1      student  health service  \n",
       "2  blue collar       economics  \n",
       "3      student       economics  \n",
       "4  blue collar  health service  "
      ]
     },
     "execution_count": 142,
     "metadata": {},
     "output_type": "execute_result"
    }
   ],
   "source": [
    "customer.head()"
   ]
  },
  {
   "cell_type": "code",
   "execution_count": 143,
   "metadata": {},
   "outputs": [
    {
     "name": "stdout",
     "output_type": "stream",
     "text": [
      "<class 'pandas.core.frame.DataFrame'>\n",
      "RangeIndex: 4479 entries, 0 to 4478\n",
      "Data columns (total 7 columns):\n",
      " #   Column      Non-Null Count  Dtype \n",
      "---  ------      --------------  ----- \n",
      " 0   customerid  4479 non-null   object\n",
      " 1   DOB         4479 non-null   int64 \n",
      " 2   gender      4479 non-null   object\n",
      " 3   address     4478 non-null   object\n",
      " 4   Website     3943 non-null   object\n",
      " 5   job         4479 non-null   object\n",
      " 6   industry    3357 non-null   object\n",
      "dtypes: int64(1), object(6)\n",
      "memory usage: 245.1+ KB\n"
     ]
    }
   ],
   "source": [
    "customer.info()"
   ]
  },
  {
   "cell_type": "code",
   "execution_count": 144,
   "metadata": {},
   "outputs": [],
   "source": [
    "from datetime import datetime, timedelta"
   ]
  },
  {
   "cell_type": "code",
   "execution_count": 145,
   "metadata": {},
   "outputs": [],
   "source": [
    "current_date = datetime.now()\n",
    "base_date = datetime(1899, 12, 30)\n",
    "max_days_difference = (current_date - base_date).days"
   ]
  },
  {
   "cell_type": "code",
   "execution_count": 146,
   "metadata": {},
   "outputs": [],
   "source": [
    "rows_to_drop = customer[customer['DOB']>max_days_difference].index"
   ]
  },
  {
   "cell_type": "code",
   "execution_count": 147,
   "metadata": {},
   "outputs": [],
   "source": [
    "customer.drop(rows_to_drop, axis=0, inplace=True)"
   ]
  },
  {
   "cell_type": "code",
   "execution_count": 148,
   "metadata": {},
   "outputs": [],
   "source": [
    "def date_convert(excel_date_value):\n",
    "    base_date = datetime(1899, 12, 30)\n",
    "    resulting_date = base_date + timedelta(days=excel_date_value)\n",
    "    formatted_date = resulting_date.strftime('%d/%m/%Y')\n",
    "    return formatted_date\n",
    "\n",
    "customer['DOB'] = customer['DOB'].apply(date_convert)"
   ]
  },
  {
   "cell_type": "code",
   "execution_count": 149,
   "metadata": {},
   "outputs": [],
   "source": [
    "customer['DOB'] = pd.to_datetime(customer['DOB'], format='%d/%m/%Y')"
   ]
  },
  {
   "cell_type": "code",
   "execution_count": 150,
   "metadata": {},
   "outputs": [],
   "source": [
    "def age_calculate(birthdate):\n",
    "    current_date = datetime.now()\n",
    "    age = current_date.year - birthdate.year - ((current_date.month, current_date.day) < (birthdate.month, birthdate.day))\n",
    "    return age \n",
    "\n",
    "customer['age'] = customer['DOB'].apply(age_calculate)"
   ]
  },
  {
   "cell_type": "code",
   "execution_count": 151,
   "metadata": {},
   "outputs": [
    {
     "data": {
      "text/plain": [
       "0       24\n",
       "1       25\n",
       "2       30\n",
       "3       24\n",
       "4       29\n",
       "        ..\n",
       "4474    28\n",
       "4475    23\n",
       "4476    35\n",
       "4477    27\n",
       "4478    21\n",
       "Name: age, Length: 4475, dtype: int64"
      ]
     },
     "execution_count": 151,
     "metadata": {},
     "output_type": "execute_result"
    }
   ],
   "source": [
    "customer['age']"
   ]
  },
  {
   "cell_type": "code",
   "execution_count": 152,
   "metadata": {},
   "outputs": [
    {
     "data": {
      "text/html": [
       "<div>\n",
       "<style scoped>\n",
       "    .dataframe tbody tr th:only-of-type {\n",
       "        vertical-align: middle;\n",
       "    }\n",
       "\n",
       "    .dataframe tbody tr th {\n",
       "        vertical-align: top;\n",
       "    }\n",
       "\n",
       "    .dataframe thead th {\n",
       "        text-align: right;\n",
       "    }\n",
       "</style>\n",
       "<table border=\"1\" class=\"dataframe\">\n",
       "  <thead>\n",
       "    <tr style=\"text-align: right;\">\n",
       "      <th></th>\n",
       "      <th>customerid</th>\n",
       "      <th>DOB</th>\n",
       "      <th>gender</th>\n",
       "      <th>address</th>\n",
       "      <th>Website</th>\n",
       "      <th>job</th>\n",
       "      <th>industry</th>\n",
       "      <th>age</th>\n",
       "    </tr>\n",
       "  </thead>\n",
       "  <tbody>\n",
       "    <tr>\n",
       "      <th>0</th>\n",
       "      <td>0000000014</td>\n",
       "      <td>1999-04-18</td>\n",
       "      <td>Nữ</td>\n",
       "      <td>hoa khe quan thanh khe</td>\n",
       "      <td>KH0104|0345</td>\n",
       "      <td>student</td>\n",
       "      <td>computer</td>\n",
       "      <td>24</td>\n",
       "    </tr>\n",
       "    <tr>\n",
       "      <th>1</th>\n",
       "      <td>0000000034</td>\n",
       "      <td>1998-04-16</td>\n",
       "      <td>Nam</td>\n",
       "      <td>man thai</td>\n",
       "      <td>KH0104|0333</td>\n",
       "      <td>student</td>\n",
       "      <td>health service</td>\n",
       "      <td>25</td>\n",
       "    </tr>\n",
       "    <tr>\n",
       "      <th>2</th>\n",
       "      <td>0000000051</td>\n",
       "      <td>1993-12-16</td>\n",
       "      <td>Nam</td>\n",
       "      <td>que son quang nam</td>\n",
       "      <td>KH0104|0255</td>\n",
       "      <td>blue collar</td>\n",
       "      <td>economics</td>\n",
       "      <td>30</td>\n",
       "    </tr>\n",
       "    <tr>\n",
       "      <th>3</th>\n",
       "      <td>0000000081</td>\n",
       "      <td>1999-11-08</td>\n",
       "      <td>Nam</td>\n",
       "      <td>truong chinh</td>\n",
       "      <td>KH0104|0293</td>\n",
       "      <td>student</td>\n",
       "      <td>economics</td>\n",
       "      <td>24</td>\n",
       "    </tr>\n",
       "    <tr>\n",
       "      <th>4</th>\n",
       "      <td>0000000098</td>\n",
       "      <td>1994-10-01</td>\n",
       "      <td>Nam</td>\n",
       "      <td>cẩm lệ</td>\n",
       "      <td>KH0104|40580</td>\n",
       "      <td>blue collar</td>\n",
       "      <td>health service</td>\n",
       "      <td>29</td>\n",
       "    </tr>\n",
       "    <tr>\n",
       "      <th>...</th>\n",
       "      <td>...</td>\n",
       "      <td>...</td>\n",
       "      <td>...</td>\n",
       "      <td>...</td>\n",
       "      <td>...</td>\n",
       "      <td>...</td>\n",
       "      <td>...</td>\n",
       "      <td>...</td>\n",
       "    </tr>\n",
       "    <tr>\n",
       "      <th>4474</th>\n",
       "      <td>KH9855766</td>\n",
       "      <td>1995-07-05</td>\n",
       "      <td>Nữ</td>\n",
       "      <td>A, THUAN PHUOC,HAI CHAU, DA NANG</td>\n",
       "      <td>NaN</td>\n",
       "      <td>specialist</td>\n",
       "      <td>finance</td>\n",
       "      <td>28</td>\n",
       "    </tr>\n",
       "    <tr>\n",
       "      <th>4475</th>\n",
       "      <td>KH9958204</td>\n",
       "      <td>2001-01-01</td>\n",
       "      <td>Nữ</td>\n",
       "      <td>Phước Mỹ, ĐN</td>\n",
       "      <td>NaN</td>\n",
       "      <td>teenager</td>\n",
       "      <td>NaN</td>\n",
       "      <td>23</td>\n",
       "    </tr>\n",
       "    <tr>\n",
       "      <th>4476</th>\n",
       "      <td>WEBS00000043900</td>\n",
       "      <td>1988-06-17</td>\n",
       "      <td>Nữ</td>\n",
       "      <td>nguyen gian thanh</td>\n",
       "      <td>KHWEBS|00006890</td>\n",
       "      <td>specialist</td>\n",
       "      <td>construction</td>\n",
       "      <td>35</td>\n",
       "    </tr>\n",
       "    <tr>\n",
       "      <th>4477</th>\n",
       "      <td>WEBS00000044909</td>\n",
       "      <td>1996-09-08</td>\n",
       "      <td>Nữ</td>\n",
       "      <td>ngũ hành sơn</td>\n",
       "      <td>KHWEBS|00007899</td>\n",
       "      <td>blue collar</td>\n",
       "      <td>finance</td>\n",
       "      <td>27</td>\n",
       "    </tr>\n",
       "    <tr>\n",
       "      <th>4478</th>\n",
       "      <td>WEBS00000046015</td>\n",
       "      <td>2002-04-26</td>\n",
       "      <td>Nữ</td>\n",
       "      <td>Thanh Khê Tây - Thanh Khê</td>\n",
       "      <td>KHWEBS|00009005</td>\n",
       "      <td>teenager</td>\n",
       "      <td>NaN</td>\n",
       "      <td>21</td>\n",
       "    </tr>\n",
       "  </tbody>\n",
       "</table>\n",
       "<p>4475 rows × 8 columns</p>\n",
       "</div>"
      ],
      "text/plain": [
       "           customerid        DOB gender                           address  \\\n",
       "0          0000000014 1999-04-18     Nữ            hoa khe quan thanh khe   \n",
       "1          0000000034 1998-04-16    Nam                          man thai   \n",
       "2          0000000051 1993-12-16    Nam                 que son quang nam   \n",
       "3          0000000081 1999-11-08    Nam                      truong chinh   \n",
       "4          0000000098 1994-10-01    Nam                            cẩm lệ   \n",
       "...               ...        ...    ...                               ...   \n",
       "4474        KH9855766 1995-07-05     Nữ  A, THUAN PHUOC,HAI CHAU, DA NANG   \n",
       "4475        KH9958204 2001-01-01     Nữ                      Phước Mỹ, ĐN   \n",
       "4476  WEBS00000043900 1988-06-17     Nữ                 nguyen gian thanh   \n",
       "4477  WEBS00000044909 1996-09-08     Nữ                      ngũ hành sơn   \n",
       "4478  WEBS00000046015 2002-04-26     Nữ         Thanh Khê Tây - Thanh Khê   \n",
       "\n",
       "              Website          job        industry  age  \n",
       "0         KH0104|0345      student        computer   24  \n",
       "1         KH0104|0333      student  health service   25  \n",
       "2         KH0104|0255  blue collar       economics   30  \n",
       "3         KH0104|0293      student       economics   24  \n",
       "4        KH0104|40580  blue collar  health service   29  \n",
       "...               ...          ...             ...  ...  \n",
       "4474              NaN   specialist         finance   28  \n",
       "4475              NaN     teenager             NaN   23  \n",
       "4476  KHWEBS|00006890   specialist    construction   35  \n",
       "4477  KHWEBS|00007899  blue collar         finance   27  \n",
       "4478  KHWEBS|00009005     teenager             NaN   21  \n",
       "\n",
       "[4475 rows x 8 columns]"
      ]
     },
     "execution_count": 152,
     "metadata": {},
     "output_type": "execute_result"
    }
   ],
   "source": [
    "customer"
   ]
  },
  {
   "cell_type": "code",
   "execution_count": 153,
   "metadata": {},
   "outputs": [
    {
     "data": {
      "text/plain": [
       "customerid    4475\n",
       "DOB           3049\n",
       "gender           2\n",
       "address       1260\n",
       "Website       3940\n",
       "job              5\n",
       "industry         9\n",
       "age             50\n",
       "dtype: int64"
      ]
     },
     "execution_count": 153,
     "metadata": {},
     "output_type": "execute_result"
    }
   ],
   "source": [
    "customer.nunique()"
   ]
  },
  {
   "cell_type": "code",
   "execution_count": 154,
   "metadata": {},
   "outputs": [],
   "source": [
    "customer['gender'] = customer['gender'].astype('category')"
   ]
  },
  {
   "cell_type": "code",
   "execution_count": 155,
   "metadata": {},
   "outputs": [
    {
     "data": {
      "text/plain": [
       "address\n",
       "hải châu                     312\n",
       "ngũ hành sơn                 294\n",
       "hòa khánh                    270\n",
       "liên chiểu                   263\n",
       "sơn trà                      252\n",
       "                            ... \n",
       "vũ quỳnh                       1\n",
       "Pleiku, Gia Lai                1\n",
       "Phan Boi                       1\n",
       " THÁI THỊ BÔI ĐÀ NẴNG          1\n",
       "Thanh Khê Tây - Thanh Khê      1\n",
       "Name: count, Length: 1260, dtype: int64"
      ]
     },
     "execution_count": 155,
     "metadata": {},
     "output_type": "execute_result"
    }
   ],
   "source": [
    "customer['address'].value_counts()"
   ]
  },
  {
   "cell_type": "code",
   "execution_count": 156,
   "metadata": {},
   "outputs": [
    {
     "data": {
      "text/plain": [
       "customerid       0\n",
       "DOB              0\n",
       "gender           0\n",
       "address          1\n",
       "Website        535\n",
       "job              0\n",
       "industry      1118\n",
       "age              0\n",
       "dtype: int64"
      ]
     },
     "execution_count": 156,
     "metadata": {},
     "output_type": "execute_result"
    }
   ],
   "source": [
    "customer.isnull().sum()"
   ]
  },
  {
   "cell_type": "code",
   "execution_count": 157,
   "metadata": {},
   "outputs": [],
   "source": [
    "null_address_rows = customer[customer['address'].isnull()].index"
   ]
  },
  {
   "cell_type": "code",
   "execution_count": 158,
   "metadata": {},
   "outputs": [],
   "source": [
    "customer.drop(null_address_rows, axis=0, inplace=True)"
   ]
  },
  {
   "cell_type": "code",
   "execution_count": 159,
   "metadata": {},
   "outputs": [
    {
     "data": {
      "text/plain": [
       "0                 hoa khe quan thanh khe\n",
       "1                               man thai\n",
       "2                      que son quang nam\n",
       "3                           truong chinh\n",
       "4                                 cẩm lệ\n",
       "                      ...               \n",
       "4474    A, THUAN PHUOC,HAI CHAU, DA NANG\n",
       "4475                        Phước Mỹ, ĐN\n",
       "4476                   nguyen gian thanh\n",
       "4477                        ngũ hành sơn\n",
       "4478           Thanh Khê Tây - Thanh Khê\n",
       "Name: address, Length: 4474, dtype: object"
      ]
     },
     "execution_count": 159,
     "metadata": {},
     "output_type": "execute_result"
    }
   ],
   "source": [
    "\n",
    "customer['address']"
   ]
  },
  {
   "cell_type": "code",
   "execution_count": 160,
   "metadata": {},
   "outputs": [],
   "source": [
    "# import itertools\n",
    "# from thefuzz import fuzz, process\n",
    "# customer_address_id = customer[['customerid', 'address']]\n",
    "# customer_address_id"
   ]
  },
  {
   "cell_type": "code",
   "execution_count": 161,
   "metadata": {},
   "outputs": [],
   "source": [
    "# customer_address = customer[\"address\"].apply(lambda x: x.lower())\n",
    "# customer_address.value_counts()\n"
   ]
  },
  {
   "cell_type": "code",
   "execution_count": 162,
   "metadata": {},
   "outputs": [],
   "source": [
    "# compare_address = pd.DataFrame(itertools.product(customer['customerid'], customer['customerid']), columns=['CSV 1', 'CSV 2'])\n",
    "# compare_address"
   ]
  },
  {
   "cell_type": "code",
   "execution_count": 163,
   "metadata": {},
   "outputs": [],
   "source": [
    "# compare_address = compare_address.merge(customer_address_id, how='right', left_on='CSV 1', right_on='customerid')\n",
    "# compare_address = compare_address.merge(customer_address_id, how='right', left_on='CSV 2', right_on='customerid')\n",
    "# compare_address"
   ]
  },
  {
   "cell_type": "code",
   "execution_count": 164,
   "metadata": {},
   "outputs": [],
   "source": [
    "# compare_address = compare_address[['CSV 1', 'CSV 2', 'address_x', 'address_y']]\n",
    "# compare_address"
   ]
  },
  {
   "cell_type": "code",
   "execution_count": 165,
   "metadata": {},
   "outputs": [],
   "source": [
    "# partial_ratio_score = [fuzz.partial_ratio(c1, c2) for c1, c2 in compare_address[['address_x', 'address_y']].values]"
   ]
  },
  {
   "cell_type": "code",
   "execution_count": 166,
   "metadata": {},
   "outputs": [],
   "source": [
    "# compare_address['Partial_ratio_score'] = partial_ratio_score\n",
    "# compare_address"
   ]
  },
  {
   "cell_type": "code",
   "execution_count": 167,
   "metadata": {},
   "outputs": [],
   "source": [
    "# compare_address = compare_address[compare_address['Partial_ratio_score'] >= 90]\n",
    "# compare_address = compare_address[compare_address['CSV 1'] != compare_address['CSV 2']]\n",
    "# compare_address"
   ]
  },
  {
   "cell_type": "code",
   "execution_count": 168,
   "metadata": {},
   "outputs": [],
   "source": [
    "# compare_address.loc[compare_address['CSV 1']=='0001079961']"
   ]
  },
  {
   "cell_type": "code",
   "execution_count": 169,
   "metadata": {},
   "outputs": [],
   "source": [
    "# compare_address"
   ]
  },
  {
   "cell_type": "code",
   "execution_count": 170,
   "metadata": {},
   "outputs": [],
   "source": [
    "# compare_address[compare_address['Partial_ratio_score'] >= 80]"
   ]
  },
  {
   "cell_type": "code",
   "execution_count": 171,
   "metadata": {},
   "outputs": [
    {
     "data": {
      "text/plain": [
       "array(['man thai', ' truong chinh', 'cẩm lệ', 'Tam Thuan', ' Le Duan',\n",
       "       'Thuan Phuoc', 'liên chiểu', 'hòa vang', 'Ton Dan', ' thanh sơn',\n",
       "       'hòa minh', 'sơn trà', 'THANH KHÊ', ' ton dan', 'hải châu',\n",
       "       'Hùng Vương', 'hòa khánh', 'ĐỐNG ĐA', 'Mẹ Nhu', 'Nguyễn Chánh',\n",
       "       ' Đống Đa', 'Văn Cao', 'lê duẩn', 'LIÊN CHIỂU', ' Lê Duẩn',\n",
       "       'Phan Thanh', 'cam le', 'Lang Ha', 'tô hiệu', 'hỉa phòng',\n",
       "       'Yên Khê', 'KHU đÔNG', 'đồng kì', 'Quảng Trị', 'Lê Thiệt',\n",
       "       'LÊ DUẨN', 'hoaf vang', ' hùng vương', 'KHUÊ TRUNG', 'hoàng diệu',\n",
       "       ' LÊ ĐỘ', 'tôn đản', 'quảng nam', 'bùi viện', 'TRƯỜNG CHINH',\n",
       "       'quế sơn', 'Hoàng Diệu', ' Nguyễn Trãi', 'Đào Tần', 'Liên Chiểu',\n",
       "       'Tôn Đản', 'lý triệu', 'Trần Phú', 'LÊ ĐỘ', 'Hàm Nghi', 'Hải Châu',\n",
       "       'NGỌC HÂN', 'Quảng Nam', 'bac dau', 'tân thái', 'hải phòng',\n",
       "       'Thanh thủy', 'Hải Phòng', 'Mân Quang', 'Huỳnh Lý', 'Hải Sơn',\n",
       "       'Đỗ Quang', 'thanh Long', 'Thanh Thủy', 'KỲ ĐỒNG', 'HÙNG VƯƠNG',\n",
       "       'cô giang', 'DUY TÂN', 'NGÔ QUYỀN', 'THANH DUYÊN', 'THÚC TỀ',\n",
       "       'Quang Trung', 'HẢI PHÒNG', 'Lê Duẩn', ' TRƯỜNG CHINH', 'hội an',\n",
       "       'quảng Ngãi', 'HÒA CHÂU', ' Yên Báy', 'BẮC ĐẨU', 'Ngô quyền',\n",
       "       'an đồn', 'Thanh Hải', 'NGUYỄN NGHIÊM', 'phan thanh', 'Hoa Lien',\n",
       "       'HÒA PHÁT', 'QUẢNG NAM', 'Đăk Lăk', 'Phan Thành', 'Trường Chinh',\n",
       "       'Bình Định', 'Van Don', 'Hoa Minh', 'SON TRA', 'son tra',\n",
       "       'lê duẫn', ' Phan Thanh', 'Hoa Son', 'Thôi Hữu', ' Sơn Trà',\n",
       "       'TRường Sơn', 'núi thành', 'Hải Phong', 'Cao Thắng', 'tam kỳ',\n",
       "       'nguyễn đăng', 'lê Duẩn', 'Mai An', 'Đống Đa', ' Hùng Vương',\n",
       "       'Nguyễn Hoàng', 'PASRAUR, ĐN', ' HÙNG VƯƠNG', 'QUẢNG TRỊ',\n",
       "       'Thế Lữ', ' TÔ HIỆU', 'thanh sơn', 'Thái phiên', 'nguyễn du',\n",
       "       'Lê Lợi', 'HOÀNG DIỆU', ' Quang Trung', 'Hà SƠn', ' Thanh Thủy',\n",
       "       'SƠN TRÀ', 'HẢI CHÂU', 'quãng nam', 'vũ quỳnh', 'NÚI THÀNH',\n",
       "       'Phan Boi', 'HÀO VANG', 'TRẦN PHÚ', 'Quảng nam', 'QUANG RNAM',\n",
       "       'QUẢNG BÌNH', 'Hòa Vang', 'THANH KHE', 'HAI CHAU', 'Chính Gián',\n",
       "       'CẨM LỆ', 'CÂM LỆ', 'TAM KÌ', 'quang nam', 'Lê Cơ', '- BLO',\n",
       "       'câẩm lệ', 'Thanh Khê', 'LIEN CHIEU', 'PHU YEN', ' ĐỐNG ĐA',\n",
       "       'Ba Đình', ' Hải Phòng', 'HÒA VANG', 'CAM LE', 'Hai Phong',\n",
       "       'hoaf khanhf', 'đại lộc', 'Hội An', 'thanh khê', 'Lê Độ', 'HỘI AN',\n",
       "       'hai chau', 'Mai Am', 'Khúc Hạo', 'HOA VANG', 'q.liên chiểu',\n",
       "       'hoi an', 'LIEN CHIÊU', 'THANH  KHÊ', 'Đổ Quang', 'Tran Phu',\n",
       "       'QUANG NAM', 'Hà Tĩnh', 'QUANG NẢM', 'THẠC GIÁN', 'HÒA KHÁNH',\n",
       "       'QUANG  NAM', 'SỢN TRÀ', ' Hải Phong', ' PHAN THANH', 'SƠN TRA',\n",
       "       'quang trung', 'lê lai', 'QUANG TRI', ' HOÀNG DIỆU', 'HẢI DƯƠNG',\n",
       "       'QUẢNG NMA', 'QUANG BINH', 'TAM KỲ', 'Quảng Bình', 'Phan thanh',\n",
       "       'Duy Xuyên', 'Hòa An', 'Hòa Tiến', 'CẨM LÊH', 'Hòa Vang',\n",
       "       ' THANH LONG', 'ĐĂK LĂK', 'TRƯƠNG ĐỊNH', ' Nam Cao', 'Vũ Hữu',\n",
       "       'THNAH KHÊ', 'HÒA VNAG', ' lê duẩn', 'thanh thủy', 'QUANGR NAM',\n",
       "       'LIEN CHIỂU', 'thanh khe', 'que son', ' Tôn Đản', 'quảng nam,',\n",
       "       ' nguyễn trắc', 'hair chaau', 'bình định', 'Ngo Quyen', 'hà nội',\n",
       "       'HÀ NỘI', 'KHÁNH HÒA', 'SƠN TRAG', 'SƠN TRTA', 'trần phú',\n",
       "       'THĂNG BÌNH', 'LIEENC HIỂU', 'LIÊN CHIÊU', 'lang son', ' đỗ quang',\n",
       "       ' Cach Mang', 'HOANG DIEU', 'thanh khee', 'KON TUM', 'đống đa',\n",
       "       'ĐỖ NHUẬN', 'THANH KHEE', 'NGUYỄN HIỀN', 'Âu Cơ', 'sơn trà',\n",
       "       'nghệ an', 'SƠN TRÀ', 'Kiên Giang', 'gia lai', 'nguyễn biểu',\n",
       "       ' lê độ', 'hải Châu', 'QUẢNG Nam', 'Thanh Sơn', 'hà tĩnh',\n",
       "       'Cô Giang', ' Trương Định', ' Lê Độ', ' Cao Thắng', 'tran phu',\n",
       "       'LE DUAN', 'thi sách', 'HÀM NGHI', 'Nguyen Trai', 'tiểu la',\n",
       "       'nguyễn hoàng', 'Nam Cao', 'Thi SÁch', 'trường chinh',\n",
       "       ' NÚI THÀNH', 'hòa phong', 'An Khe', 'Cẩm Lệ', 'PHAN THANH',\n",
       "       'KHUC HA', 'Bắc Sơn', 'BẮC GIANG', 'CO GIANG', 'quang binh',\n",
       "       'BÌNH ĐỊNH', 'Quang Nam', 'CAO THẮNG', 'QUANG NGAI', 'Gia Lai',\n",
       "       'HÒA THANH', 'QUANGC NGÃI', 'HÀ TĨNH', 'HÀN THUYÊN', 'THANH VINH',\n",
       "       'quãng ngãi', 'ĐẠI LỘC', 'Ly Trien', ' LÊ DUẨN', 'HAF TINH',\n",
       "       'Le Do', 'TÔN ĐẢN', 'Hà Nội', 'QUÃNG NAM', 'quảng ngãi',\n",
       "       ' Trường Trinh', 'NGUYỄN HOÀNG', ' MAN THIÊNH', ' Cam Le-DN',\n",
       "       'Quang Binh', 'Nguyen Hoang', 'Bắc Đẩu', ' Nui Thanh'],\n",
       "      dtype=object)"
      ]
     },
     "execution_count": 171,
     "metadata": {},
     "output_type": "execute_result"
    }
   ],
   "source": [
    "customer[customer['address'].apply(lambda x: len([part.strip() for part in x.replace(',', ' ').split()])==2)]['address'].unique()"
   ]
  },
  {
   "cell_type": "code",
   "execution_count": 172,
   "metadata": {},
   "outputs": [],
   "source": [
    "from unidecode import unidecode\n",
    "\n",
    "customer['address']=customer['address'].apply(unidecode).str.lower()\n",
    "customer['address']=customer['address'].apply(lambda x: x.split('-')[-2] if '-' in x else x.split(',')[-2] if ',' in x else x)"
   ]
  },
  {
   "cell_type": "code",
   "execution_count": 173,
   "metadata": {},
   "outputs": [
    {
     "data": {
      "text/html": [
       "<div>\n",
       "<style scoped>\n",
       "    .dataframe tbody tr th:only-of-type {\n",
       "        vertical-align: middle;\n",
       "    }\n",
       "\n",
       "    .dataframe tbody tr th {\n",
       "        vertical-align: top;\n",
       "    }\n",
       "\n",
       "    .dataframe thead th {\n",
       "        text-align: right;\n",
       "    }\n",
       "</style>\n",
       "<table border=\"1\" class=\"dataframe\">\n",
       "  <thead>\n",
       "    <tr style=\"text-align: right;\">\n",
       "      <th></th>\n",
       "      <th>customerid</th>\n",
       "      <th>DOB</th>\n",
       "      <th>gender</th>\n",
       "      <th>address</th>\n",
       "      <th>Website</th>\n",
       "      <th>job</th>\n",
       "      <th>industry</th>\n",
       "      <th>age</th>\n",
       "      <th>district</th>\n",
       "      <th>city</th>\n",
       "      <th>partial score</th>\n",
       "    </tr>\n",
       "  </thead>\n",
       "  <tbody>\n",
       "    <tr>\n",
       "      <th>0</th>\n",
       "      <td>0000000014</td>\n",
       "      <td>1999-04-18</td>\n",
       "      <td>Nữ</td>\n",
       "      <td>hoa khe quan thanh khe</td>\n",
       "      <td>KH0104|0345</td>\n",
       "      <td>student</td>\n",
       "      <td>computer</td>\n",
       "      <td>24</td>\n",
       "      <td>NaN</td>\n",
       "      <td>NaN</td>\n",
       "      <td>0</td>\n",
       "    </tr>\n",
       "    <tr>\n",
       "      <th>1</th>\n",
       "      <td>0000000034</td>\n",
       "      <td>1998-04-16</td>\n",
       "      <td>Nam</td>\n",
       "      <td>man thai</td>\n",
       "      <td>KH0104|0333</td>\n",
       "      <td>student</td>\n",
       "      <td>health service</td>\n",
       "      <td>25</td>\n",
       "      <td>NaN</td>\n",
       "      <td>NaN</td>\n",
       "      <td>0</td>\n",
       "    </tr>\n",
       "    <tr>\n",
       "      <th>2</th>\n",
       "      <td>0000000051</td>\n",
       "      <td>1993-12-16</td>\n",
       "      <td>Nam</td>\n",
       "      <td>que son quang nam</td>\n",
       "      <td>KH0104|0255</td>\n",
       "      <td>blue collar</td>\n",
       "      <td>economics</td>\n",
       "      <td>30</td>\n",
       "      <td>NaN</td>\n",
       "      <td>NaN</td>\n",
       "      <td>0</td>\n",
       "    </tr>\n",
       "    <tr>\n",
       "      <th>3</th>\n",
       "      <td>0000000081</td>\n",
       "      <td>1999-11-08</td>\n",
       "      <td>Nam</td>\n",
       "      <td>truong chinh</td>\n",
       "      <td>KH0104|0293</td>\n",
       "      <td>student</td>\n",
       "      <td>economics</td>\n",
       "      <td>24</td>\n",
       "      <td>NaN</td>\n",
       "      <td>NaN</td>\n",
       "      <td>0</td>\n",
       "    </tr>\n",
       "    <tr>\n",
       "      <th>4</th>\n",
       "      <td>0000000098</td>\n",
       "      <td>1994-10-01</td>\n",
       "      <td>Nam</td>\n",
       "      <td>cam le</td>\n",
       "      <td>KH0104|40580</td>\n",
       "      <td>blue collar</td>\n",
       "      <td>health service</td>\n",
       "      <td>29</td>\n",
       "      <td>NaN</td>\n",
       "      <td>NaN</td>\n",
       "      <td>0</td>\n",
       "    </tr>\n",
       "    <tr>\n",
       "      <th>...</th>\n",
       "      <td>...</td>\n",
       "      <td>...</td>\n",
       "      <td>...</td>\n",
       "      <td>...</td>\n",
       "      <td>...</td>\n",
       "      <td>...</td>\n",
       "      <td>...</td>\n",
       "      <td>...</td>\n",
       "      <td>...</td>\n",
       "      <td>...</td>\n",
       "      <td>...</td>\n",
       "    </tr>\n",
       "    <tr>\n",
       "      <th>4474</th>\n",
       "      <td>KH9855766</td>\n",
       "      <td>1995-07-05</td>\n",
       "      <td>Nữ</td>\n",
       "      <td>hai chau</td>\n",
       "      <td>NaN</td>\n",
       "      <td>specialist</td>\n",
       "      <td>finance</td>\n",
       "      <td>28</td>\n",
       "      <td>NaN</td>\n",
       "      <td>NaN</td>\n",
       "      <td>0</td>\n",
       "    </tr>\n",
       "    <tr>\n",
       "      <th>4475</th>\n",
       "      <td>KH9958204</td>\n",
       "      <td>2001-01-01</td>\n",
       "      <td>Nữ</td>\n",
       "      <td>phuoc my</td>\n",
       "      <td>NaN</td>\n",
       "      <td>teenager</td>\n",
       "      <td>NaN</td>\n",
       "      <td>23</td>\n",
       "      <td>NaN</td>\n",
       "      <td>NaN</td>\n",
       "      <td>0</td>\n",
       "    </tr>\n",
       "    <tr>\n",
       "      <th>4476</th>\n",
       "      <td>WEBS00000043900</td>\n",
       "      <td>1988-06-17</td>\n",
       "      <td>Nữ</td>\n",
       "      <td>nguyen gian thanh</td>\n",
       "      <td>KHWEBS|00006890</td>\n",
       "      <td>specialist</td>\n",
       "      <td>construction</td>\n",
       "      <td>35</td>\n",
       "      <td>NaN</td>\n",
       "      <td>NaN</td>\n",
       "      <td>0</td>\n",
       "    </tr>\n",
       "    <tr>\n",
       "      <th>4477</th>\n",
       "      <td>WEBS00000044909</td>\n",
       "      <td>1996-09-08</td>\n",
       "      <td>Nữ</td>\n",
       "      <td>ngu hanh son</td>\n",
       "      <td>KHWEBS|00007899</td>\n",
       "      <td>blue collar</td>\n",
       "      <td>finance</td>\n",
       "      <td>27</td>\n",
       "      <td>NaN</td>\n",
       "      <td>NaN</td>\n",
       "      <td>0</td>\n",
       "    </tr>\n",
       "    <tr>\n",
       "      <th>4478</th>\n",
       "      <td>WEBS00000046015</td>\n",
       "      <td>2002-04-26</td>\n",
       "      <td>Nữ</td>\n",
       "      <td>thanh khe tay</td>\n",
       "      <td>KHWEBS|00009005</td>\n",
       "      <td>teenager</td>\n",
       "      <td>NaN</td>\n",
       "      <td>21</td>\n",
       "      <td>NaN</td>\n",
       "      <td>NaN</td>\n",
       "      <td>0</td>\n",
       "    </tr>\n",
       "  </tbody>\n",
       "</table>\n",
       "<p>4474 rows × 11 columns</p>\n",
       "</div>"
      ],
      "text/plain": [
       "           customerid        DOB gender                 address  \\\n",
       "0          0000000014 1999-04-18     Nữ  hoa khe quan thanh khe   \n",
       "1          0000000034 1998-04-16    Nam                man thai   \n",
       "2          0000000051 1993-12-16    Nam       que son quang nam   \n",
       "3          0000000081 1999-11-08    Nam            truong chinh   \n",
       "4          0000000098 1994-10-01    Nam                  cam le   \n",
       "...               ...        ...    ...                     ...   \n",
       "4474        KH9855766 1995-07-05     Nữ                hai chau   \n",
       "4475        KH9958204 2001-01-01     Nữ                phuoc my   \n",
       "4476  WEBS00000043900 1988-06-17     Nữ       nguyen gian thanh   \n",
       "4477  WEBS00000044909 1996-09-08     Nữ            ngu hanh son   \n",
       "4478  WEBS00000046015 2002-04-26     Nữ          thanh khe tay    \n",
       "\n",
       "              Website          job        industry  age  district  city  \\\n",
       "0         KH0104|0345      student        computer   24       NaN   NaN   \n",
       "1         KH0104|0333      student  health service   25       NaN   NaN   \n",
       "2         KH0104|0255  blue collar       economics   30       NaN   NaN   \n",
       "3         KH0104|0293      student       economics   24       NaN   NaN   \n",
       "4        KH0104|40580  blue collar  health service   29       NaN   NaN   \n",
       "...               ...          ...             ...  ...       ...   ...   \n",
       "4474              NaN   specialist         finance   28       NaN   NaN   \n",
       "4475              NaN     teenager             NaN   23       NaN   NaN   \n",
       "4476  KHWEBS|00006890   specialist    construction   35       NaN   NaN   \n",
       "4477  KHWEBS|00007899  blue collar         finance   27       NaN   NaN   \n",
       "4478  KHWEBS|00009005     teenager             NaN   21       NaN   NaN   \n",
       "\n",
       "      partial score  \n",
       "0                 0  \n",
       "1                 0  \n",
       "2                 0  \n",
       "3                 0  \n",
       "4                 0  \n",
       "...             ...  \n",
       "4474              0  \n",
       "4475              0  \n",
       "4476              0  \n",
       "4477              0  \n",
       "4478              0  \n",
       "\n",
       "[4474 rows x 11 columns]"
      ]
     },
     "execution_count": 173,
     "metadata": {},
     "output_type": "execute_result"
    }
   ],
   "source": [
    "customer['district'] = np.NaN\n",
    "customer['city'] = np.NaN\n",
    "customer['partial score'] = 0\n",
    "customer"
   ]
  },
  {
   "cell_type": "code",
   "execution_count": 174,
   "metadata": {},
   "outputs": [
    {
     "data": {
      "text/plain": [
       "0"
      ]
     },
     "execution_count": 174,
     "metadata": {},
     "output_type": "execute_result"
    }
   ],
   "source": [
    "customer.loc[customer['address']=='que son quang nam', 'partial score'].iloc[0]"
   ]
  },
  {
   "cell_type": "code",
   "execution_count": 176,
   "metadata": {},
   "outputs": [
    {
     "name": "stderr",
     "output_type": "stream",
     "text": [
      "C:\\Users\\Dell Inspiron 5625\\AppData\\Local\\Temp\\ipykernel_9864\\2469714479.py:16: FutureWarning: Setting an item of incompatible dtype is deprecated and will raise in a future error of pandas. Value 'quan ba dinh' has dtype incompatible with float64, please explicitly cast to a compatible dtype first.\n",
      "  customer.loc[customer['address']==match[0], 'district']=district\n"
     ]
    }
   ],
   "source": [
    "from district_extract import district_list\n",
    "from thefuzz import process\n",
    "\n",
    "district_list = list(map(unidecode, district_list))\n",
    "district_list = list(map(str.lower, district_list))\n",
    "\n",
    "unique_address = customer['address'].unique()\n",
    "for district in district_list:\n",
    "    matches=process.extract(district, unique_address, limit=len(unique_address))\n",
    "    # matches.sort(key = lambda x: x[1], reverse=True)\n",
    "    # if matches[0][1]>=85:\n",
    "    #     customer.loc[customer['address']==matches[0][0], 'district']=district\n",
    "    for match in matches:\n",
    "        if match[1]>=88:\n",
    "            if match[1]>customer.loc[customer['address']==match[0], 'partial score'].iloc[0]: \n",
    "                customer.loc[customer['address']==match[0], 'district']=district\n",
    "                customer.loc[customer['address']==match[0], 'partial score']=match[1]\n",
    "\n",
    "            # customer.loc[customer['address']==match[0], 'city']= district_dict[district]"
   ]
  },
  {
   "cell_type": "code",
   "execution_count": 177,
   "metadata": {},
   "outputs": [
    {
     "name": "stdout",
     "output_type": "stream",
     "text": [
      "{'quan ba dinh': 'Hà Nội', 'quan hoan kiem': 'Hà Nội', 'quan tay ho': 'Hà Nội', 'quan long bien': 'Hà Nội', 'quan cau giay': 'Hà Nội', 'quan dong da': 'Hà Nội', 'quan hai ba trung': 'Hà Nội', 'quan hoang mai': 'Hà Nội', 'quan thanh xuan': 'Hà Nội', 'huyen soc son': 'Hà Nội', 'huyen dong anh': 'Hà Nội', 'huyen gia lam': 'Hà Nội', 'quan nam tu liem': 'Hà Nội', 'huyen thanh tri': 'Sóc Trăng', 'quan bac tu liem': 'Hà Nội', 'huyen me linh': 'Hà Nội', 'quan ha dong': 'Hà Nội', 'thi xa son tay': 'Hà Nội', 'huyen ba vi': 'Hà Nội', 'huyen phuc tho': 'Hà Nội', 'huyen dan phuong': 'Hà Nội', 'huyen hoai duc': 'Hà Nội', 'huyen quoc oai': 'Hà Nội', 'huyen thach that': 'Hà Nội', 'huyen chuong my': 'Hà Nội', 'huyen thanh oai': 'Hà Nội', 'huyen thuong tin': 'Hà Nội', 'huyen phu xuyen': 'Hà Nội', 'huyen ung hoa': 'Hà Nội', 'huyen my duc': 'Hà Nội', 'thanh pho ha giang': 'Hà Giang', 'huyen dong van': 'Hà Giang', 'huyen meo vac': 'Hà Giang', 'huyen yen minh': 'Hà Giang', 'huyen quan ba': 'Hà Giang', 'huyen vi xuyen': 'Hà Giang', 'huyen bac me': 'Hà Giang', 'huyen hoang su phi': 'Hà Giang', 'huyen xin man': 'Hà Giang', 'huyen bac quang': 'Hà Giang', 'huyen quang binh': 'Hà Giang', 'thanh pho cao bang': 'Cao Bằng', 'huyen bao lam': 'Lâm Đồng', 'huyen bao lac': 'Cao Bằng', 'huyen ha quang': 'Cao Bằng', 'huyen trung khanh': 'Cao Bằng', 'huyen ha lang': 'Cao Bằng', 'huyen quang hoa': 'Cao Bằng', 'huyen hoa an': 'Cao Bằng', 'huyen nguyen binh': 'Cao Bằng', 'huyen thach an': 'Cao Bằng', 'thanh pho bac kan': 'Bắc Kạn', 'huyen pac nam': 'Bắc Kạn', 'huyen ba be': 'Bắc Kạn', 'huyen ngan son': 'Bắc Kạn', 'huyen bach thong': 'Bắc Kạn', 'huyen cho don': 'Bắc Kạn', 'huyen cho moi': 'An Giang', 'huyen na ri': 'Bắc Kạn', 'thanh pho tuyen quang': 'Tuyên Quang', 'huyen lam binh': 'Tuyên Quang', 'huyen na hang': 'Tuyên Quang', 'huyen chiem hoa': 'Tuyên Quang', 'huyen ham yen': 'Tuyên Quang', 'huyen yen son': 'Tuyên Quang', 'huyen son duong': 'Tuyên Quang', 'thanh pho lao cai': 'Lào Cai', 'huyen bat xat': 'Lào Cai', 'huyen muong khuong': 'Lào Cai', 'huyen si ma cai': 'Lào Cai', 'huyen bac ha': 'Lào Cai', 'huyen bao thang': 'Lào Cai', 'huyen bao yen': 'Lào Cai', 'thi xa sa pa': 'Lào Cai', 'huyen van ban': 'Lào Cai', 'thanh pho dien bien phu': 'Điện Biên', 'thi xa muong lay': 'Điện Biên', 'huyen muong nhe': 'Điện Biên', 'huyen muong cha': 'Điện Biên', 'huyen tua chua': 'Điện Biên', 'huyen tuan giao': 'Điện Biên', 'huyen dien bien': 'Điện Biên', 'huyen dien bien dong': 'Điện Biên', 'huyen muong ang': 'Điện Biên', 'huyen nam po': 'Điện Biên', 'thanh pho lai chau': 'Lai Châu', 'huyen tam duong': 'Vĩnh Phúc', 'huyen muong te': 'Lai Châu', 'huyen sin ho': 'Lai Châu', 'huyen phong tho': 'Lai Châu', 'huyen than uyen': 'Lai Châu', 'huyen tan uyen': 'Lai Châu', 'huyen nam nhun': 'Lai Châu', 'thanh pho son la': 'Sơn La', 'huyen quynh nhai': 'Sơn La', 'huyen thuan chau': 'Sơn La', 'huyen muong la': 'Sơn La', 'huyen bac yen': 'Sơn La', 'huyen phu yen': 'Sơn La', 'huyen moc chau': 'Sơn La', 'huyen yen chau': 'Sơn La', 'huyen mai son': 'Sơn La', 'huyen song ma': 'Sơn La', 'huyen sop cop': 'Sơn La', 'huyen van ho': 'Sơn La', 'thanh pho yen bai': 'Yên Bái', 'thi xa nghia lo': 'Yên Bái', 'huyen luc yen': 'Yên Bái', 'huyen van yen': 'Yên Bái', 'huyen mu cang chai': 'Yên Bái', 'huyen tran yen': 'Yên Bái', 'huyen tram tau': 'Yên Bái', 'huyen van chan': 'Yên Bái', 'huyen yen binh': 'Yên Bái', 'thanh pho hoa binh': 'Hòa Bình', 'huyen da bac': 'Hòa Bình', 'huyen luong son': 'Hòa Bình', 'huyen kim boi': 'Hòa Bình', 'huyen cao phong': 'Hòa Bình', 'huyen tan lac': 'Hòa Bình', 'huyen mai chau': 'Hòa Bình', 'huyen lac son': 'Hòa Bình', 'huyen yen thuy': 'Hòa Bình', 'huyen lac thuy': 'Hòa Bình', 'thanh pho thai nguyen': 'Thái Nguyên', 'thanh pho song cong': 'Thái Nguyên', 'huyen dinh hoa': 'Thái Nguyên', 'huyen phu luong': 'Thái Nguyên', 'huyen dong hy': 'Thái Nguyên', 'huyen vo nhai': 'Thái Nguyên', 'huyen dai tu': 'Thái Nguyên', 'thanh pho pho yen': 'Thái Nguyên', 'huyen phu binh': 'Thái Nguyên', 'thanh pho lang son': 'Lạng Sơn', 'huyen trang dinh': 'Lạng Sơn', 'huyen binh gia': 'Lạng Sơn', 'huyen van lang': 'Lạng Sơn', 'huyen cao loc': 'Lạng Sơn', 'huyen van quan': 'Lạng Sơn', 'huyen bac son': 'Lạng Sơn', 'huyen huu lung': 'Lạng Sơn', 'huyen chi lang': 'Lạng Sơn', 'huyen loc binh': 'Lạng Sơn', 'huyen dinh lap': 'Lạng Sơn', 'thanh pho ha long': 'Quảng Ninh', 'thanh pho mong cai': 'Quảng Ninh', 'thanh pho cam pha': 'Quảng Ninh', 'thanh pho uong bi': 'Quảng Ninh', 'huyen binh lieu': 'Quảng Ninh', 'huyen tien yen': 'Quảng Ninh', 'huyen dam ha': 'Quảng Ninh', 'huyen hai ha': 'Quảng Ninh', 'huyen ba che': 'Quảng Ninh', 'huyen van don': 'Quảng Ninh', 'thi xa dong trieu': 'Quảng Ninh', 'thi xa quang yen': 'Quảng Ninh', 'huyen co to': 'Quảng Ninh', 'thanh pho bac giang': 'Bắc Giang', 'huyen yen the': 'Bắc Giang', 'huyen tan yen': 'Bắc Giang', 'huyen lang giang': 'Bắc Giang', 'huyen luc nam': 'Bắc Giang', 'huyen luc ngan': 'Bắc Giang', 'huyen son dong': 'Bắc Giang', 'huyen yen dung': 'Bắc Giang', 'huyen viet yen': 'Bắc Giang', 'huyen hiep hoa': 'Bắc Giang', 'thanh pho viet tri': 'Phú Thọ', 'thi xa phu tho': 'Phú Thọ', 'huyen doan hung': 'Phú Thọ', 'huyen ha hoa': 'Phú Thọ', 'huyen thanh ba': 'Phú Thọ', 'huyen phu ninh': 'Quảng Nam', 'huyen yen lap': 'Phú Thọ', 'huyen cam khe': 'Phú Thọ', 'huyen tam nong': 'Đồng Tháp', 'huyen lam thao': 'Phú Thọ', 'huyen thanh son': 'Phú Thọ', 'huyen thanh thuy': 'Phú Thọ', 'huyen tan son': 'Phú Thọ', 'thanh pho vinh yen': 'Vĩnh Phúc', 'thanh pho phuc yen': 'Vĩnh Phúc', 'huyen lap thach': 'Vĩnh Phúc', 'huyen tam dao': 'Vĩnh Phúc', 'huyen binh xuyen': 'Vĩnh Phúc', 'huyen yen lac': 'Vĩnh Phúc', 'huyen vinh tuong': 'Vĩnh Phúc', 'huyen song lo': 'Vĩnh Phúc', 'thanh pho bac ninh': 'Bắc Ninh', 'huyen yen phong': 'Bắc Ninh', 'huyen que vo': 'Bắc Ninh', 'huyen tien du': 'Bắc Ninh', 'thanh pho tu son': 'Bắc Ninh', 'huyen thuan thanh': 'Bắc Ninh', 'huyen gia binh': 'Bắc Ninh', 'huyen luong tai': 'Bắc Ninh', 'thanh pho hai duong': 'Hải Dương', 'thanh pho chi linh': 'Hải Dương', 'huyen nam sach': 'Hải Dương', 'thi xa kinh mon': 'Hải Dương', 'huyen kim thanh': 'Hải Dương', 'huyen thanh ha': 'Hải Dương', 'huyen cam giang': 'Hải Dương', 'huyen binh giang': 'Hải Dương', 'huyen gia loc': 'Hải Dương', 'huyen tu ky': 'Hải Dương', 'huyen ninh giang': 'Hải Dương', 'huyen thanh mien': 'Hải Dương', 'quan hong bang': 'Hải Phòng', 'quan ngo quyen': 'Hải Phòng', 'quan le chan': 'Hải Phòng', 'quan hai an': 'Hải Phòng', 'quan kien an': 'Hải Phòng', 'quan do son': 'Hải Phòng', 'quan duong kinh': 'Hải Phòng', 'huyen thuy nguyen': 'Hải Phòng', 'huyen an duong': 'Hải Phòng', 'huyen an lao': 'Bình Định', 'huyen kien thuy': 'Hải Phòng', 'huyen tien lang': 'Hải Phòng', 'huyen vinh bao': 'Hải Phòng', 'huyen cat hai': 'Hải Phòng', 'huyen bach long vi': 'Hải Phòng', 'thanh pho hung yen': 'Hưng Yên', 'huyen van lam': 'Hưng Yên', 'huyen van giang': 'Hưng Yên', 'huyen yen my': 'Hưng Yên', 'thi xa my hao': 'Hưng Yên', 'huyen an thi': 'Hưng Yên', 'huyen khoai chau': 'Hưng Yên', 'huyen kim dong': 'Hưng Yên', 'huyen tien lu': 'Hưng Yên', 'huyen phu cu': 'Hưng Yên', 'thanh pho thai binh': 'Thái Bình', 'huyen quynh phu': 'Thái Bình', 'huyen hung ha': 'Thái Bình', 'huyen dong hung': 'Thái Bình', 'huyen thai thuy': 'Thái Bình', 'huyen tien hai': 'Thái Bình', 'huyen kien xuong': 'Thái Bình', 'huyen vu thu': 'Thái Bình', 'thanh pho phu ly': 'Hà Nam', 'thi xa duy tien': 'Hà Nam', 'huyen kim bang': 'Hà Nam', 'huyen thanh liem': 'Hà Nam', 'huyen binh luc': 'Hà Nam', 'huyen ly nhan': 'Hà Nam', 'thanh pho nam dinh': 'Nam Định', 'huyen my loc': 'Nam Định', 'huyen vu ban': 'Nam Định', 'huyen y yen': 'Nam Định', 'huyen nghia hung': 'Nam Định', 'huyen nam truc': 'Nam Định', 'huyen truc ninh': 'Nam Định', 'huyen xuan truong': 'Nam Định', 'huyen giao thuy': 'Nam Định', 'huyen hai hau': 'Nam Định', 'thanh pho ninh binh': 'Ninh Bình', 'thanh pho tam diep': 'Ninh Bình', 'huyen nho quan': 'Ninh Bình', 'huyen gia vien': 'Ninh Bình', 'huyen hoa lu': 'Ninh Bình', 'huyen yen khanh': 'Ninh Bình', 'huyen kim son': 'Ninh Bình', 'huyen yen mo': 'Ninh Bình', 'thanh pho thanh hoa': 'Thanh Hóa', 'thi xa bim son': 'Thanh Hóa', 'thanh pho sam son': 'Thanh Hóa', 'huyen muong lat': 'Thanh Hóa', 'huyen quan hoa': 'Thanh Hóa', 'huyen ba thuoc': 'Thanh Hóa', 'huyen quan son': 'Thanh Hóa', 'huyen lang chanh': 'Thanh Hóa', 'huyen ngoc lac': 'Thanh Hóa', 'huyen cam thuy': 'Thanh Hóa', 'huyen thach thanh': 'Thanh Hóa', 'huyen ha trung': 'Thanh Hóa', 'huyen vinh loc': 'Thanh Hóa', 'huyen yen dinh': 'Thanh Hóa', 'huyen tho xuan': 'Thanh Hóa', 'huyen thuong xuan': 'Thanh Hóa', 'huyen trieu son': 'Thanh Hóa', 'huyen thieu hoa': 'Thanh Hóa', 'huyen hoang hoa': 'Thanh Hóa', 'huyen hau loc': 'Thanh Hóa', 'huyen nga son': 'Thanh Hóa', 'huyen nhu xuan': 'Thanh Hóa', 'huyen nhu thanh': 'Thanh Hóa', 'huyen nong cong': 'Thanh Hóa', 'huyen dong son': 'Thanh Hóa', 'huyen quang xuong': 'Thanh Hóa', 'thi xa nghi son': 'Thanh Hóa', 'thanh pho vinh': 'Nghệ An', 'thi xa cua lo': 'Nghệ An', 'thi xa thai hoa': 'Nghệ An', 'huyen que phong': 'Nghệ An', 'huyen quy chau': 'Nghệ An', 'huyen ky son': 'Nghệ An', 'huyen tuong duong': 'Nghệ An', 'huyen nghia dan': 'Nghệ An', 'huyen quy hop': 'Nghệ An', 'huyen quynh luu': 'Nghệ An', 'huyen con cuong': 'Nghệ An', 'huyen tan ky': 'Nghệ An', 'huyen anh son': 'Nghệ An', 'huyen dien chau': 'Nghệ An', 'huyen yen thanh': 'Nghệ An', 'huyen do luong': 'Nghệ An', 'huyen thanh chuong': 'Nghệ An', 'huyen nghi loc': 'Nghệ An', 'huyen nam dan': 'Nghệ An', 'huyen hung nguyen': 'Nghệ An', 'thi xa hoang mai': 'Nghệ An', 'thanh pho ha tinh': 'Hà Tĩnh', 'thi xa hong linh': 'Hà Tĩnh', 'huyen huong son': 'Hà Tĩnh', 'huyen duc tho': 'Hà Tĩnh', 'huyen vu quang': 'Hà Tĩnh', 'huyen nghi xuan': 'Hà Tĩnh', 'huyen can loc': 'Hà Tĩnh', 'huyen huong khe': 'Hà Tĩnh', 'huyen thach ha': 'Hà Tĩnh', 'huyen cam xuyen': 'Hà Tĩnh', 'huyen ky anh': 'Hà Tĩnh', 'huyen loc ha': 'Hà Tĩnh', 'thi xa ky anh': 'Hà Tĩnh', 'thanh pho dong hoi': 'Quảng Bình', 'huyen minh hoa': 'Quảng Bình', 'huyen tuyen hoa': 'Quảng Bình', 'huyen quang trach': 'Quảng Bình', 'huyen bo trach': 'Quảng Bình', 'huyen quang ninh': 'Quảng Bình', 'huyen le thuy': 'Quảng Bình', 'thi xa ba don': 'Quảng Bình', 'thanh pho dong ha': 'Quảng Trị', 'thi xa quang tri': 'Quảng Trị', 'huyen vinh linh': 'Quảng Trị', 'huyen huong hoa': 'Quảng Trị', 'huyen gio linh': 'Quảng Trị', 'huyen da krong': 'Quảng Trị', 'huyen cam lo': 'Quảng Trị', 'huyen trieu phong': 'Quảng Trị', 'huyen hai lang': 'Quảng Trị', 'huyen con co': 'Quảng Trị', 'huyen phong dien': 'Cần Thơ', 'huyen quang dien': 'Thừa Thiên-Huế', 'huyen phu vang': 'Thừa Thiên-Huế', 'thi xa huong thuy': 'Thừa Thiên-Huế', 'thi xa huong tra': 'Thừa Thiên-Huế', 'huyen a luoi': 'Thừa Thiên-Huế', 'huyen phu loc': 'Thừa Thiên-Huế', 'huyen nam dong': 'Thừa Thiên-Huế', 'quan lien chieu': 'Đà Nẵng', 'quan thanh khe': 'Đà Nẵng', 'quan hai chau': 'Đà Nẵng', 'quan son tra': 'Đà Nẵng', 'quan ngu hanh son': 'Đà Nẵng', 'quan cam le': 'Đà Nẵng', 'huyen hoa vang': 'Đà Nẵng', 'huyen hoang sa': 'Đà Nẵng', 'thanh pho tam ky': 'Quảng Nam', 'thanh pho hoi an': 'Quảng Nam', 'huyen tay giang': 'Quảng Nam', 'huyen dong giang': 'Quảng Nam', 'huyen dai loc': 'Quảng Nam', 'thi xa dien ban': 'Quảng Nam', 'huyen duy xuyen': 'Quảng Nam', 'huyen que son': 'Quảng Nam', 'huyen nam giang': 'Quảng Nam', 'huyen phuoc son': 'Quảng Nam', 'huyen hiep duc': 'Quảng Nam', 'huyen thang binh': 'Quảng Nam', 'huyen tien phuoc': 'Quảng Nam', 'huyen bac tra my': 'Quảng Nam', 'huyen nam tra my': 'Quảng Nam', 'huyen nui thanh': 'Quảng Nam', 'huyen nong son': 'Quảng Nam', 'thanh pho quang ngai': 'Quảng Ngãi', 'huyen binh son': 'Quảng Ngãi', 'huyen tra bong': 'Quảng Ngãi', 'huyen son tinh': 'Quảng Ngãi', 'huyen tu nghia': 'Quảng Ngãi', 'huyen son ha': 'Quảng Ngãi', 'huyen son tay': 'Quảng Ngãi', 'huyen minh long': 'Quảng Ngãi', 'huyen nghia hanh': 'Quảng Ngãi', 'huyen mo duc': 'Quảng Ngãi', 'thi xa duc pho': 'Quảng Ngãi', 'huyen ba to': 'Quảng Ngãi', 'huyen ly son': 'Quảng Ngãi', 'thanh pho quy nhon': 'Bình Định', 'thi xa hoai nhon': 'Bình Định', 'huyen hoai an': 'Bình Định', 'huyen phu my': 'Bình Định', 'huyen vinh thanh': 'Cần Thơ', 'huyen tay son': 'Bình Định', 'huyen phu cat': 'Bình Định', 'thi xa an nhon': 'Bình Định', 'huyen tuy phuoc': 'Bình Định', 'huyen van canh': 'Bình Định', 'thanh pho tuy hoa': 'Phú Yên', 'thi xa song cau': 'Phú Yên', 'huyen dong xuan': 'Phú Yên', 'huyen tuy an': 'Phú Yên', 'huyen son hoa': 'Phú Yên', 'huyen song hinh': 'Phú Yên', 'huyen tay hoa': 'Phú Yên', 'huyen phu hoa': 'Phú Yên', 'thi xa dong hoa': 'Phú Yên', 'thanh pho nha trang': 'Khánh Hòa', 'thanh pho cam ranh': 'Khánh Hòa', 'huyen cam lam': 'Khánh Hòa', 'huyen van ninh': 'Khánh Hòa', 'thi xa ninh hoa': 'Khánh Hòa', 'huyen khanh vinh': 'Khánh Hòa', 'huyen dien khanh': 'Khánh Hòa', 'huyen khanh son': 'Khánh Hòa', 'huyen truong sa': 'Khánh Hòa', 'thanh pho phan rang-thap cham': 'Ninh Thuận', 'huyen bac ai': 'Ninh Thuận', 'huyen ninh son': 'Ninh Thuận', 'huyen ninh hai': 'Ninh Thuận', 'huyen ninh phuoc': 'Ninh Thuận', 'huyen thuan bac': 'Ninh Thuận', 'huyen thuan nam': 'Ninh Thuận', 'thanh pho phan thiet': 'Bình Thuận', 'thi xa la gi': 'Bình Thuận', 'huyen tuy phong': 'Bình Thuận', 'huyen bac binh': 'Bình Thuận', 'huyen ham thuan bac': 'Bình Thuận', 'huyen ham thuan nam': 'Bình Thuận', 'huyen tanh linh': 'Bình Thuận', 'huyen duc linh': 'Bình Thuận', 'huyen ham tan': 'Bình Thuận', 'huyen phu qui': 'Bình Thuận', 'thanh pho kon tum': 'Kon Tum', 'huyen dak glei': 'Kon Tum', 'huyen ngoc hoi': 'Kon Tum', 'huyen dak to': 'Kon Tum', 'huyen kon plong': 'Kon Tum', 'huyen kon ray': 'Kon Tum', 'huyen dak ha': 'Kon Tum', 'huyen sa thay': 'Kon Tum', 'huyen tu mo rong': 'Kon Tum', \"huyen ia h' drai\": 'Kon Tum', 'thanh pho pleiku': 'Gia Lai', 'thi xa an khe': 'Gia Lai', 'thi xa ayun pa': 'Gia Lai', 'huyen kbang': 'Gia Lai', 'huyen dak doa': 'Gia Lai', 'huyen chu pah': 'Gia Lai', 'huyen ia grai': 'Gia Lai', 'huyen mang yang': 'Gia Lai', 'huyen kong chro': 'Gia Lai', 'huyen duc co': 'Gia Lai', 'huyen chu prong': 'Gia Lai', 'huyen chu se': 'Gia Lai', 'huyen dak po': 'Gia Lai', 'huyen ia pa': 'Gia Lai', 'huyen krong pa': 'Gia Lai', 'huyen phu thien': 'Gia Lai', 'huyen chu puh': 'Gia Lai', 'thanh pho buon ma thuot': 'Đắk Lắk', 'thi xa buon ho': 'Đắk Lắk', \"huyen ea h'leo\": 'Đắk Lắk', 'huyen ea sup': 'Đắk Lắk', 'huyen buon don': 'Đắk Lắk', \"huyen cu m'gar\": 'Đắk Lắk', 'huyen krong buk': 'Đắk Lắk', 'huyen krong nang': 'Đắk Lắk', 'huyen ea kar': 'Đắk Lắk', \"huyen m'drak\": 'Đắk Lắk', 'huyen krong bong': 'Đắk Lắk', 'huyen krong pac': 'Đắk Lắk', 'huyen krong a na': 'Đắk Lắk', 'huyen lak': 'Đắk Lắk', 'huyen cu kuin': 'Đắk Lắk', 'thanh pho gia nghia': 'Đắk Nông', 'huyen dak glong': 'Đắk Nông', 'huyen cu jut': 'Đắk Nông', 'huyen dak mil': 'Đắk Nông', 'huyen krong no': 'Đắk Nông', 'huyen dak song': 'Đắk Nông', \"huyen dak r'lap\": 'Đắk Nông', 'huyen tuy duc': 'Đắk Nông', 'thanh pho da lat': 'Lâm Đồng', 'thanh pho bao loc': 'Lâm Đồng', 'huyen dam rong': 'Lâm Đồng', 'huyen lac duong': 'Lâm Đồng', 'huyen lam ha': 'Lâm Đồng', 'huyen don duong': 'Lâm Đồng', 'huyen duc trong': 'Lâm Đồng', 'huyen di linh': 'Lâm Đồng', 'huyen da huoai': 'Lâm Đồng', 'huyen da teh': 'Lâm Đồng', 'huyen cat tien': 'Lâm Đồng', 'thi xa phuoc long': 'Bình Phước', 'thanh pho dong xoai': 'Bình Phước', 'thi xa binh long': 'Bình Phước', 'huyen bu gia map': 'Bình Phước', 'huyen loc ninh': 'Bình Phước', 'huyen bu dop': 'Bình Phước', 'huyen hon quan': 'Bình Phước', 'huyen dong phu': 'Bình Phước', 'huyen bu dang': 'Bình Phước', 'huyen chon thanh': 'Bình Phước', 'huyen phu rieng': 'Bình Phước', 'thanh pho tay ninh': 'Tây Ninh', 'huyen tan bien': 'Tây Ninh', 'huyen tan chau': 'Tây Ninh', 'huyen duong minh chau': 'Tây Ninh', 'huyen chau thanh': 'Sóc Trăng', 'thi xa hoa thanh': 'Tây Ninh', 'huyen go dau': 'Tây Ninh', 'huyen ben cau': 'Tây Ninh', 'thi xa trang bang': 'Tây Ninh', 'thanh pho thu dau mot': 'Bình Dương', 'huyen bau bang': 'Bình Dương', 'huyen dau tieng': 'Bình Dương', 'thi xa ben cat': 'Bình Dương', 'huyen phu giao': 'Bình Dương', 'thi xa tan uyen': 'Bình Dương', 'thanh pho di an': 'Bình Dương', 'thanh pho thuan an': 'Bình Dương', 'huyen bac tan uyen': 'Bình Dương', 'thanh pho bien hoa': 'Đồng Nai', 'thanh pho long khanh': 'Đồng Nai', 'huyen tan phu': 'Đồng Nai', 'huyen vinh cuu': 'Đồng Nai', 'huyen dinh quan': 'Đồng Nai', 'huyen trang bom': 'Đồng Nai', 'huyen thong nhat': 'Đồng Nai', 'huyen cam my': 'Đồng Nai', 'huyen long thanh': 'Đồng Nai', 'huyen xuan loc': 'Đồng Nai', 'huyen nhon trach': 'Đồng Nai', 'thanh pho vung tau': 'Bà Rịa-Vũng Tàu', 'thanh pho ba ria': 'Bà Rịa-Vũng Tàu', 'huyen chau duc': 'Bà Rịa-Vũng Tàu', 'huyen xuyen moc': 'Bà Rịa-Vũng Tàu', 'huyen long dien': 'Bà Rịa-Vũng Tàu', 'huyen dat do': 'Bà Rịa-Vũng Tàu', 'thi xa phu my': 'Bà Rịa-Vũng Tàu', 'huyen con dao': 'Bà Rịa-Vũng Tàu', 'quan 1': 'Hồ Chí Minh', 'quan 12': 'Hồ Chí Minh', 'quan go vap': 'Hồ Chí Minh', 'quan binh thanh': 'Hồ Chí Minh', 'quan tan binh': 'Hồ Chí Minh', 'quan tan phu': 'Hồ Chí Minh', 'quan phu nhuan': 'Hồ Chí Minh', 'thanh pho thu duc': 'Hồ Chí Minh', 'quan 3': 'Hồ Chí Minh', 'quan 10': 'Hồ Chí Minh', 'quan 11': 'Hồ Chí Minh', 'quan 4': 'Hồ Chí Minh', 'quan 5': 'Hồ Chí Minh', 'quan 6': 'Hồ Chí Minh', 'quan 8': 'Hồ Chí Minh', 'quan binh tan': 'Hồ Chí Minh', 'quan 7': 'Hồ Chí Minh', 'huyen cu chi': 'Hồ Chí Minh', 'huyen hoc mon': 'Hồ Chí Minh', 'huyen binh chanh': 'Hồ Chí Minh', 'huyen nha be': 'Hồ Chí Minh', 'huyen can gio': 'Hồ Chí Minh', 'thanh pho tan an': 'Long An', 'thi xa kien tuong': 'Long An', 'huyen tan hung': 'Long An', 'huyen vinh hung': 'Long An', 'huyen moc hoa': 'Long An', 'huyen tan thanh': 'Long An', 'huyen thanh hoa': 'Long An', 'huyen duc hue': 'Long An', 'huyen duc hoa': 'Long An', 'huyen ben luc': 'Long An', 'huyen thu thua': 'Long An', 'huyen tan tru': 'Long An', 'huyen can duoc': 'Long An', 'huyen can giuoc': 'Long An', 'thanh pho my tho': 'Tiền Giang', 'thi xa go cong': 'Tiền Giang', 'thi xa cai lay': 'Tiền Giang', 'huyen tan phuoc': 'Tiền Giang', 'huyen cai be': 'Tiền Giang', 'huyen cai lay': 'Tiền Giang', 'huyen cho gao': 'Tiền Giang', 'huyen go cong tay': 'Tiền Giang', 'huyen go cong dong': 'Tiền Giang', 'huyen tan phu dong': 'Tiền Giang', 'thanh pho ben tre': 'Bến Tre', 'huyen cho lach': 'Bến Tre', 'huyen mo cay nam': 'Bến Tre', 'huyen giong trom': 'Bến Tre', 'huyen binh dai': 'Bến Tre', 'huyen ba tri': 'Bến Tre', 'huyen thanh phu': 'Bến Tre', 'huyen mo cay bac': 'Bến Tre', 'thanh pho tra vinh': 'Trà Vinh', 'huyen cang long': 'Trà Vinh', 'huyen cau ke': 'Trà Vinh', 'huyen tieu can': 'Trà Vinh', 'huyen cau ngang': 'Trà Vinh', 'huyen tra cu': 'Trà Vinh', 'huyen duyen hai': 'Trà Vinh', 'thi xa duyen hai': 'Trà Vinh', 'thanh pho vinh long': 'Vĩnh Long', 'huyen long ho': 'Vĩnh Long', 'huyen mang thit': 'Vĩnh Long', 'huyen vung liem': 'Vĩnh Long', 'huyen tam binh': 'Vĩnh Long', 'thi xa binh minh': 'Vĩnh Long', 'huyen tra on': 'Vĩnh Long', 'huyen binh tan': 'Vĩnh Long', 'thanh pho cao lanh': 'Đồng Tháp', 'thanh pho sa dec': 'Đồng Tháp', 'thanh pho hong ngu': 'Đồng Tháp', 'huyen tan hong': 'Đồng Tháp', 'huyen hong ngu': 'Đồng Tháp', 'huyen thap muoi': 'Đồng Tháp', 'huyen cao lanh': 'Đồng Tháp', 'huyen thanh binh': 'Đồng Tháp', 'huyen lap vo': 'Đồng Tháp', 'huyen lai vung': 'Đồng Tháp', 'thanh pho long xuyen': 'An Giang', 'thanh pho chau doc': 'An Giang', 'huyen an phu': 'An Giang', 'thi xa tan chau': 'An Giang', 'huyen phu tan': 'Cà Mau', 'huyen chau phu': 'An Giang', 'huyen tinh bien': 'An Giang', 'huyen tri ton': 'An Giang', 'huyen thoai son': 'An Giang', 'thanh pho rach gia': 'Kiên Giang', 'thanh pho ha tien': 'Kiên Giang', 'huyen kien luong': 'Kiên Giang', 'huyen hon dat': 'Kiên Giang', 'huyen tan hiep': 'Kiên Giang', 'huyen giong rieng': 'Kiên Giang', 'huyen go quao': 'Kiên Giang', 'huyen an bien': 'Kiên Giang', 'huyen an minh': 'Kiên Giang', 'huyen vinh thuan': 'Kiên Giang', 'thanh pho phu quoc': 'Kiên Giang', 'huyen kien hai': 'Kiên Giang', 'huyen u minh thuong': 'Kiên Giang', 'huyen giang thanh': 'Kiên Giang', 'quan ninh kieu': 'Cần Thơ', 'quan o mon': 'Cần Thơ', 'quan binh thuy': 'Cần Thơ', 'quan cai rang': 'Cần Thơ', 'quan thot not': 'Cần Thơ', 'huyen co do': 'Cần Thơ', 'huyen thoi lai': 'Cần Thơ', 'thanh pho vi thanh': 'Hậu Giang', 'thanh pho nga bay': 'Hậu Giang', 'huyen chau thanh a': 'Hậu Giang', 'huyen phung hiep': 'Hậu Giang', 'huyen vi thuy': 'Hậu Giang', 'huyen long my': 'Hậu Giang', 'thi xa long my': 'Hậu Giang', 'thanh pho soc trang': 'Sóc Trăng', 'huyen ke sach': 'Sóc Trăng', 'huyen my tu': 'Sóc Trăng', 'huyen cu lao dung': 'Sóc Trăng', 'huyen long phu': 'Sóc Trăng', 'huyen my xuyen': 'Sóc Trăng', 'thi xa nga nam': 'Sóc Trăng', 'thi xa vinh chau': 'Sóc Trăng', 'huyen tran de': 'Sóc Trăng', 'thanh pho bac lieu': 'Bạc Liêu', 'huyen hong dan': 'Bạc Liêu', 'huyen phuoc long': 'Bạc Liêu', 'huyen vinh loi': 'Bạc Liêu', 'thi xa gia rai': 'Bạc Liêu', 'huyen dong hai': 'Bạc Liêu', 'huyen hoa binh': 'Bạc Liêu', 'thanh pho ca mau': 'Cà Mau', 'huyen u minh': 'Cà Mau', 'huyen thoi binh': 'Cà Mau', 'huyen tran van thoi': 'Cà Mau', 'huyen cai nuoc': 'Cà Mau', 'huyen dam doi': 'Cà Mau', 'huyen nam can': 'Cà Mau'}\n"
     ]
    }
   ],
   "source": [
    "from district_extract import district_dict\n",
    "print(district_dict)"
   ]
  },
  {
   "cell_type": "code",
   "execution_count": 188,
   "metadata": {},
   "outputs": [],
   "source": [
    "customer['city'] = customer['address'].apply(lambda x: district_dict.get(x, 'NaN'))"
   ]
  },
  {
   "cell_type": "code",
   "execution_count": 189,
   "metadata": {},
   "outputs": [
    {
     "data": {
      "text/html": [
       "<div>\n",
       "<style scoped>\n",
       "    .dataframe tbody tr th:only-of-type {\n",
       "        vertical-align: middle;\n",
       "    }\n",
       "\n",
       "    .dataframe tbody tr th {\n",
       "        vertical-align: top;\n",
       "    }\n",
       "\n",
       "    .dataframe thead th {\n",
       "        text-align: right;\n",
       "    }\n",
       "</style>\n",
       "<table border=\"1\" class=\"dataframe\">\n",
       "  <thead>\n",
       "    <tr style=\"text-align: right;\">\n",
       "      <th></th>\n",
       "      <th>customerid</th>\n",
       "      <th>DOB</th>\n",
       "      <th>gender</th>\n",
       "      <th>address</th>\n",
       "      <th>Website</th>\n",
       "      <th>job</th>\n",
       "      <th>industry</th>\n",
       "      <th>age</th>\n",
       "      <th>district</th>\n",
       "      <th>city</th>\n",
       "      <th>partial score</th>\n",
       "    </tr>\n",
       "  </thead>\n",
       "  <tbody>\n",
       "    <tr>\n",
       "      <th>0</th>\n",
       "      <td>0000000014</td>\n",
       "      <td>1999-04-18</td>\n",
       "      <td>Nữ</td>\n",
       "      <td>hoa khe quan thanh khe</td>\n",
       "      <td>KH0104|0345</td>\n",
       "      <td>student</td>\n",
       "      <td>computer</td>\n",
       "      <td>24</td>\n",
       "      <td>quan thanh khe</td>\n",
       "      <td>NaN</td>\n",
       "      <td>90</td>\n",
       "    </tr>\n",
       "    <tr>\n",
       "      <th>1</th>\n",
       "      <td>0000000034</td>\n",
       "      <td>1998-04-16</td>\n",
       "      <td>Nam</td>\n",
       "      <td>man thai</td>\n",
       "      <td>KH0104|0333</td>\n",
       "      <td>student</td>\n",
       "      <td>health service</td>\n",
       "      <td>25</td>\n",
       "      <td>NaN</td>\n",
       "      <td>NaN</td>\n",
       "      <td>0</td>\n",
       "    </tr>\n",
       "    <tr>\n",
       "      <th>2</th>\n",
       "      <td>0000000051</td>\n",
       "      <td>1993-12-16</td>\n",
       "      <td>Nam</td>\n",
       "      <td>que son quang nam</td>\n",
       "      <td>KH0104|0255</td>\n",
       "      <td>blue collar</td>\n",
       "      <td>economics</td>\n",
       "      <td>30</td>\n",
       "      <td>NaN</td>\n",
       "      <td>NaN</td>\n",
       "      <td>0</td>\n",
       "    </tr>\n",
       "    <tr>\n",
       "      <th>3</th>\n",
       "      <td>0000000081</td>\n",
       "      <td>1999-11-08</td>\n",
       "      <td>Nam</td>\n",
       "      <td>truong chinh</td>\n",
       "      <td>KH0104|0293</td>\n",
       "      <td>student</td>\n",
       "      <td>economics</td>\n",
       "      <td>24</td>\n",
       "      <td>NaN</td>\n",
       "      <td>NaN</td>\n",
       "      <td>0</td>\n",
       "    </tr>\n",
       "    <tr>\n",
       "      <th>4</th>\n",
       "      <td>0000000098</td>\n",
       "      <td>1994-10-01</td>\n",
       "      <td>Nam</td>\n",
       "      <td>cam le</td>\n",
       "      <td>KH0104|40580</td>\n",
       "      <td>blue collar</td>\n",
       "      <td>health service</td>\n",
       "      <td>29</td>\n",
       "      <td>quan cam le</td>\n",
       "      <td>NaN</td>\n",
       "      <td>90</td>\n",
       "    </tr>\n",
       "    <tr>\n",
       "      <th>...</th>\n",
       "      <td>...</td>\n",
       "      <td>...</td>\n",
       "      <td>...</td>\n",
       "      <td>...</td>\n",
       "      <td>...</td>\n",
       "      <td>...</td>\n",
       "      <td>...</td>\n",
       "      <td>...</td>\n",
       "      <td>...</td>\n",
       "      <td>...</td>\n",
       "      <td>...</td>\n",
       "    </tr>\n",
       "    <tr>\n",
       "      <th>95</th>\n",
       "      <td>0000010136</td>\n",
       "      <td>1992-12-11</td>\n",
       "      <td>Nam</td>\n",
       "      <td>hai chau</td>\n",
       "      <td>KH0104|18536</td>\n",
       "      <td>specialist</td>\n",
       "      <td>health service</td>\n",
       "      <td>31</td>\n",
       "      <td>quan hai chau</td>\n",
       "      <td>NaN</td>\n",
       "      <td>90</td>\n",
       "    </tr>\n",
       "    <tr>\n",
       "      <th>96</th>\n",
       "      <td>0000010165</td>\n",
       "      <td>1994-02-17</td>\n",
       "      <td>Nữ</td>\n",
       "      <td>lien chieu</td>\n",
       "      <td>KH0104|18442</td>\n",
       "      <td>specialist</td>\n",
       "      <td>construction</td>\n",
       "      <td>29</td>\n",
       "      <td>quan lien chieu</td>\n",
       "      <td>NaN</td>\n",
       "      <td>90</td>\n",
       "    </tr>\n",
       "    <tr>\n",
       "      <th>97</th>\n",
       "      <td>0000010196</td>\n",
       "      <td>1993-03-30</td>\n",
       "      <td>Nữ</td>\n",
       "      <td>hai phong da nang</td>\n",
       "      <td>KH0104|18241</td>\n",
       "      <td>blue collar</td>\n",
       "      <td>health service</td>\n",
       "      <td>30</td>\n",
       "      <td>NaN</td>\n",
       "      <td>NaN</td>\n",
       "      <td>0</td>\n",
       "    </tr>\n",
       "    <tr>\n",
       "      <th>98</th>\n",
       "      <td>0000010231</td>\n",
       "      <td>1996-02-03</td>\n",
       "      <td>Nam</td>\n",
       "      <td>son tra</td>\n",
       "      <td>KH0104|16066</td>\n",
       "      <td>blue collar</td>\n",
       "      <td>finance</td>\n",
       "      <td>27</td>\n",
       "      <td>quan son tra</td>\n",
       "      <td>NaN</td>\n",
       "      <td>90</td>\n",
       "    </tr>\n",
       "    <tr>\n",
       "      <th>99</th>\n",
       "      <td>0000010241</td>\n",
       "      <td>1990-02-01</td>\n",
       "      <td>Nam</td>\n",
       "      <td>ngu hanh son</td>\n",
       "      <td>NaN</td>\n",
       "      <td>white collar</td>\n",
       "      <td>health service</td>\n",
       "      <td>33</td>\n",
       "      <td>quan ngu hanh son</td>\n",
       "      <td>NaN</td>\n",
       "      <td>95</td>\n",
       "    </tr>\n",
       "  </tbody>\n",
       "</table>\n",
       "<p>100 rows × 11 columns</p>\n",
       "</div>"
      ],
      "text/plain": [
       "    customerid        DOB gender                 address       Website  \\\n",
       "0   0000000014 1999-04-18     Nữ  hoa khe quan thanh khe   KH0104|0345   \n",
       "1   0000000034 1998-04-16    Nam                man thai   KH0104|0333   \n",
       "2   0000000051 1993-12-16    Nam       que son quang nam   KH0104|0255   \n",
       "3   0000000081 1999-11-08    Nam            truong chinh   KH0104|0293   \n",
       "4   0000000098 1994-10-01    Nam                  cam le  KH0104|40580   \n",
       "..         ...        ...    ...                     ...           ...   \n",
       "95  0000010136 1992-12-11    Nam                hai chau  KH0104|18536   \n",
       "96  0000010165 1994-02-17     Nữ              lien chieu  KH0104|18442   \n",
       "97  0000010196 1993-03-30     Nữ       hai phong da nang  KH0104|18241   \n",
       "98  0000010231 1996-02-03    Nam                 son tra  KH0104|16066   \n",
       "99  0000010241 1990-02-01    Nam            ngu hanh son           NaN   \n",
       "\n",
       "             job        industry  age           district city  partial score  \n",
       "0        student        computer   24     quan thanh khe  NaN             90  \n",
       "1        student  health service   25                NaN  NaN              0  \n",
       "2    blue collar       economics   30                NaN  NaN              0  \n",
       "3        student       economics   24                NaN  NaN              0  \n",
       "4    blue collar  health service   29        quan cam le  NaN             90  \n",
       "..           ...             ...  ...                ...  ...            ...  \n",
       "95    specialist  health service   31      quan hai chau  NaN             90  \n",
       "96    specialist    construction   29    quan lien chieu  NaN             90  \n",
       "97   blue collar  health service   30                NaN  NaN              0  \n",
       "98   blue collar         finance   27       quan son tra  NaN             90  \n",
       "99  white collar  health service   33  quan ngu hanh son  NaN             95  \n",
       "\n",
       "[100 rows x 11 columns]"
      ]
     },
     "execution_count": 189,
     "metadata": {},
     "output_type": "execute_result"
    }
   ],
   "source": [
    "customer.head(100)"
   ]
  },
  {
   "cell_type": "code",
   "execution_count": 185,
   "metadata": {},
   "outputs": [
    {
     "data": {
      "text/plain": [
       "1454"
      ]
     },
     "execution_count": 185,
     "metadata": {},
     "output_type": "execute_result"
    }
   ],
   "source": [
    "customer['district'].isna().sum()"
   ]
  },
  {
   "cell_type": "code",
   "execution_count": 186,
   "metadata": {},
   "outputs": [],
   "source": [
    "index = []\n",
    "for address in unique_address:\n",
    "    if ',' in address or '-' in address:\n",
    "        index.append(list(customer[customer['address']==address].index)[0])"
   ]
  },
  {
   "cell_type": "code",
   "execution_count": 187,
   "metadata": {},
   "outputs": [
    {
     "data": {
      "text/html": [
       "<div>\n",
       "<style scoped>\n",
       "    .dataframe tbody tr th:only-of-type {\n",
       "        vertical-align: middle;\n",
       "    }\n",
       "\n",
       "    .dataframe tbody tr th {\n",
       "        vertical-align: top;\n",
       "    }\n",
       "\n",
       "    .dataframe thead th {\n",
       "        text-align: right;\n",
       "    }\n",
       "</style>\n",
       "<table border=\"1\" class=\"dataframe\">\n",
       "  <thead>\n",
       "    <tr style=\"text-align: right;\">\n",
       "      <th></th>\n",
       "      <th>customerid</th>\n",
       "      <th>DOB</th>\n",
       "      <th>gender</th>\n",
       "      <th>address</th>\n",
       "      <th>Website</th>\n",
       "      <th>job</th>\n",
       "      <th>industry</th>\n",
       "      <th>age</th>\n",
       "      <th>district</th>\n",
       "      <th>city</th>\n",
       "      <th>partial score</th>\n",
       "    </tr>\n",
       "  </thead>\n",
       "  <tbody>\n",
       "  </tbody>\n",
       "</table>\n",
       "</div>"
      ],
      "text/plain": [
       "Empty DataFrame\n",
       "Columns: [customerid, DOB, gender, address, Website, job, industry, age, district, city, partial score]\n",
       "Index: []"
      ]
     },
     "execution_count": 187,
     "metadata": {},
     "output_type": "execute_result"
    }
   ],
   "source": [
    "customer[customer.index.isin(index)]"
   ]
  },
  {
   "cell_type": "code",
   "execution_count": 183,
   "metadata": {},
   "outputs": [
    {
     "data": {
      "text/html": [
       "<div>\n",
       "<style scoped>\n",
       "    .dataframe tbody tr th:only-of-type {\n",
       "        vertical-align: middle;\n",
       "    }\n",
       "\n",
       "    .dataframe tbody tr th {\n",
       "        vertical-align: top;\n",
       "    }\n",
       "\n",
       "    .dataframe thead th {\n",
       "        text-align: right;\n",
       "    }\n",
       "</style>\n",
       "<table border=\"1\" class=\"dataframe\">\n",
       "  <thead>\n",
       "    <tr style=\"text-align: right;\">\n",
       "      <th></th>\n",
       "      <th>customerid</th>\n",
       "      <th>DOB</th>\n",
       "      <th>gender</th>\n",
       "      <th>address</th>\n",
       "      <th>Website</th>\n",
       "      <th>job</th>\n",
       "      <th>industry</th>\n",
       "      <th>age</th>\n",
       "      <th>district</th>\n",
       "      <th>city</th>\n",
       "      <th>partial score</th>\n",
       "    </tr>\n",
       "  </thead>\n",
       "  <tbody>\n",
       "  </tbody>\n",
       "</table>\n",
       "</div>"
      ],
      "text/plain": [
       "Empty DataFrame\n",
       "Columns: [customerid, DOB, gender, address, Website, job, industry, age, district, city, partial score]\n",
       "Index: []"
      ]
     },
     "execution_count": 183,
     "metadata": {},
     "output_type": "execute_result"
    }
   ],
   "source": [
    "customer[customer.index.isin(index)]"
   ]
  },
  {
   "cell_type": "code",
   "execution_count": null,
   "metadata": {},
   "outputs": [],
   "source": []
  }
 ],
 "metadata": {
  "kernelspec": {
   "display_name": "Python 3",
   "language": "python",
   "name": "python3"
  },
  "language_info": {
   "codemirror_mode": {
    "name": "ipython",
    "version": 3
   },
   "file_extension": ".py",
   "mimetype": "text/x-python",
   "name": "python",
   "nbconvert_exporter": "python",
   "pygments_lexer": "ipython3",
   "version": "3.11.3"
  }
 },
 "nbformat": 4,
 "nbformat_minor": 2
}
